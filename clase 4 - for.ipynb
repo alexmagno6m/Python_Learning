{
 "cells": [
  {
   "cell_type": "markdown",
   "metadata": {},
   "source": [
    "### Clase 4 - Python Ciclo For <br>Ing. Alexander Acevedo Gómez <br>Clase de Programación <br>Colegio Antonio Baraya"
   ]
  },
  {
   "cell_type": "code",
   "execution_count": null,
   "metadata": {},
   "outputs": [],
   "source": []
  },
  {
   "attachments": {
    "Capture2.PNG": {
     "image/png": "[encoded data removed]"
    }
   },
   "cell_type": "markdown",
   "metadata": {},
   "source": [
    "# El ciclo for\n",
    "El ciclo for es una iteración que opera sobre una colección de datos en Python, es decir, una lista, una tupla, un diccionario, un conjunto, una cadena o un rango.\n",
    "Con el ciclo for se ejecuta un conjunto de declaraciones, una vez para cada elemento de la colección.\n",
    "\n",
    ">## Sintaxis del ciclo for\n",
    ">El ciclo for presenta una sintaxis sencilla en Python, difiere en algunas cosas en otros lenguajes de programación:\n",
    "![Capture2.PNG](attachment:Capture2.PNG)\n",
    "> La estructura es la siguiente:\n",
    ">\n",
    "> - __for__: con la palabra reservada _for_ se está declarando en el interprete el inicio del ciclo.\n",
    ">\n",
    "> - __iterating_var__(variable iteradora): esta variable por lo general es nueva dentro del código, y se encargará de recorrer los elementos de la colección (items) según se indique.\n",
    ">\n",
    "> - __in__: paralabra reservada con la cual se relaciona la variable iteradora con la secuenca a recorrer.\n",
    ">\n",
    "> - __sequence__(secuencia o colección): es un grupo de datos por ejemplo: listas, cadenas, conjuntos, tuplas, diccionarios, rangos.\n",
    ">\n",
    "> La indentación debajo de la declaración del ciclo _for_ indica que todas las instrucciones escritas dentro de ésta se ejecutarán dentro del ciclo. Las instrucciones que no estén indentadas quedan fuera de  éste.\n",
    ">\n",
    "> El ciclo _for_ se usa cuando de antemano el programador conoce el total de iteraciones, bien porque es un número fijo, o bien porque dentro del código se usa una colección cuyo número de elementos se define con anticipación.\n",
    "# Usos del ciclo for\n",
    "Quizá uno de los usos mas extendidos consiste en recorrer elementos de una colección para efectuar operaciones con ellos, existen diversas maneras de hacer esto:\n",
    "\n",
    "El ciclo for puede usarse de diversas maneras, éstas son algunas de ellas:\n",
    "> ## Recorriendo elementos en una cadena"
   ]
  },
  {
   "cell_type": "code",
   "execution_count": 1,
   "metadata": {},
   "outputs": [
    {
     "name": "stdout",
     "output_type": "stream",
     "text": [
      "p\n",
      "r\n",
      "o\n",
      "g\n",
      "r\n",
      "a\n",
      "m\n",
      "a\n",
      "c\n",
      "i\n",
      "o\n",
      "n\n"
     ]
    }
   ],
   "source": [
    "for x in \"programacion\":\n",
    "    print(x)"
   ]
  },
  {
   "cell_type": "markdown",
   "metadata": {},
   "source": [
    "> La variable iteradora x, pasa por cada elemento de la cadena \"programacion\" tomando su valor. Luego se ordena que se imprima dicho valor hasta que se reccoran todos los elementos.\n",
    ">\n",
    "> ## Recorriendo elementos de una lista\n",
    "> De la misma forma si se tiene una lista definida con anterioridad, aplica la misma sintaxis para recorrer elemento por elemento:\n",
    ">\n",
    "> Definiendo una lista con ciudades de colombia:"
   ]
  },
  {
   "cell_type": "code",
   "execution_count": 2,
   "metadata": {},
   "outputs": [],
   "source": [
    "ciudades = [\"Bogota\", \"Medellin\", \"Cali\", \"Manizales\"]"
   ]
  },
  {
   "cell_type": "markdown",
   "metadata": {},
   "source": [
    "> Se puede recorrer usando el mismo procedimiento:"
   ]
  },
  {
   "cell_type": "code",
   "execution_count": 3,
   "metadata": {},
   "outputs": [
    {
     "name": "stdout",
     "output_type": "stream",
     "text": [
      "Bogota\n",
      "Medellin\n",
      "Cali\n",
      "Manizales\n"
     ]
    }
   ],
   "source": [
    "for x in ciudades:\n",
    "    print(x)"
   ]
  },
  {
   "cell_type": "markdown",
   "metadata": {},
   "source": [
    "> Como se observa la variable iteradora x, toma el valor de cada ciudad (una por vez) y luego imprime dicho valor.\n",
    "> ## Uso de la función range(), recorriendo una colección un número específico de veces\n",
    "> Los dos métodos anteriores recorren todos y cada uno de los elementos de la colección, sin embargo, esto no siempre puede ser útil, es probable según el contexto del programa, determinar un número específico de veces para ser recorrido por el ciclo _for_ en una colección, en ese caso, se usa la función _range()_.\n",
    ">>### Sintaxis de la función _range_.\n",
    ">> La funcion _range()_, devuelve una secuencia de números, comenzando por 0, a menos que se indique lo contrario, se incrementa en 1 por defecto y termina en un número específico (sin incluir a este).\n",
    ">\n",
    "> Observe el siguiente ejemplo:"
   ]
  },
  {
   "cell_type": "code",
   "execution_count": 5,
   "metadata": {},
   "outputs": [
    {
     "name": "stdout",
     "output_type": "stream",
     "text": [
      "0\n",
      "1\n",
      "2\n",
      "3\n",
      "4\n"
     ]
    }
   ],
   "source": [
    "for x in range(5):\n",
    "    print(x)"
   ]
  },
  {
   "cell_type": "markdown",
   "metadata": {},
   "source": [
    ">>La variable x toma los valores del conjunto de numeros, iniciando en cero dado que no se le indicó algo diferente, se incrementa con un paso de 1 y termina en 4. \n",
    ">>\n",
    ">>Esto es por que a pesar de haber indicado dentro del paréntesis el número 5, _el recorrido termina en el número anterior, no se incluye el último_.\n",
    ">>### Deteminando valor de inicio e incremento (paso)\n",
    ">>Para indicar el valor de inicio y el incremento, se agregan estos datos dentro del paréntisis de la función _range()_.\n",
    ">>\n",
    ">> En el siguiente ejemplo se imprimen los números pares de 2 al 10:"
   ]
  },
  {
   "cell_type": "code",
   "execution_count": 6,
   "metadata": {},
   "outputs": [
    {
     "name": "stdout",
     "output_type": "stream",
     "text": [
      "2\n",
      "4\n",
      "6\n",
      "8\n",
      "10\n"
     ]
    }
   ],
   "source": [
    "for x in range(2, 11, 2):\n",
    "    print(x)"
   ]
  },
  {
   "cell_type": "markdown",
   "metadata": {},
   "source": [
    ">> - El primer número a qué corresponde?\n",
    ">> - El último número qué significa?\n",
    ">> - Por qué el número de la mitad es un 11?\n",
    "> ## Usos dinámicos del índice en un ciclo for\n",
    "> Obviamente, un solo ciclo for se puede combinar con más de una colección o con otros ciclos for. Muchas veces es útil  usar la función _range_ en lugar del nombre de la colección o de la lista, lo cual permite hacer operaciones con los elementos dado su índice (posición).\n",
    ">\n",
    "> __Ejemplo__: tomando como base la lista de las ciudades de Colombia, vamos a modificar el código anterior para usar la función range en lugar del nombre de la lista, y con esto acceder a los índices:  "
   ]
  },
  {
   "cell_type": "code",
   "execution_count": 8,
   "metadata": {},
   "outputs": [
    {
     "name": "stdout",
     "output_type": "stream",
     "text": [
      "Bogota\n",
      "Medellin\n",
      "Cali\n",
      "Manizales\n"
     ]
    }
   ],
   "source": [
    "for x in range(4):\n",
    "    print (ciudades[x])"
   ]
  },
  {
   "cell_type": "markdown",
   "metadata": {},
   "source": [
    ">El resultado es el mismo al obtenido anteriormente, sin embargo, al acceder directamente a los índices se abre la posibilidad de poder operar con más de una colección.\n",
    ">\n",
    ">__Explicación__:La variable iteradora x toma el valor del índice de cada elemento en la lista, por esto va entre corchetes.\n",
    ">\n",
    "> Por qué dentro de _range_ se escribió el número 4?.\n",
    ">\n",
    "> __Importante__: si la lista tiene muchos elementos, es más práctico usar la función _len(nombre_lista)_ dentro de range.😉\n",
    ">## Reto 1 - ejercicio 1\n",
    "> 1. Defina una función sin parámetros llamada reto1_ejercicio1:"
   ]
  },
  {
   "cell_type": "code",
   "execution_count": null,
   "metadata": {},
   "outputs": [],
   "source": [
    "def reto1_ejercicio1():"
   ]
  },
  {
   "cell_type": "markdown",
   "metadata": {},
   "source": [
    "> 2. Dentro de la función cree dos listas, en una almacenará el nombre de cinco estudiantes y en otra sus calificaciones, por ejemplo (use los nombres que desee):"
   ]
  },
  {
   "cell_type": "code",
   "execution_count": 9,
   "metadata": {},
   "outputs": [],
   "source": [
    "nombres_estudiantes = ['Daniela', 'Carlos', 'Alex', 'etc...']\n",
    "calificaciones = [35, 40, 25, 10]"
   ]
  },
  {
   "cell_type": "markdown",
   "metadata": {},
   "source": [
    "> 3. Agregue a la función el código para que se imprima en un mensaje el nombre del estudiante junto a su califiación, __todo dentro de un solo for__. El mensaje puede quedar:\n",
    ">\n",
    "> \"Daniela tiene una nota de 35\"\n",
    "> ## Reto 1 - ejercicio 2\n",
    "> 1. Defina una nueva función sin parámetros llamada reto1_ejercicio2 \n",
    "> 2. Cree dentro de esta función una lista vacía llamada: mis_gustos:"
   ]
  },
  {
   "cell_type": "code",
   "execution_count": 10,
   "metadata": {},
   "outputs": [],
   "source": [
    "mis_gustos = []"
   ]
  },
  {
   "cell_type": "markdown",
   "metadata": {},
   "source": [
    "> 3. Usando un ciclo for escriba un código que pregunte __tres veces__: _Qué gustos tienes?_. La respuesta se debe almacenar en la lista.\n",
    "> 4. Al final se debe imprimir la lista con las tres respuestas almacenadas.\n",
    ">\n",
    "> Guarde su archivo como:\n",
    ">\n",
    ">apellido_curso_.py"
   ]
  }
 ],
 "metadata": {
  "hide_input": false,
  "kernelspec": {
   "display_name": "Python 3",
   "language": "python",
   "name": "python3"
  },
  "language_info": {
   "codemirror_mode": {
    "name": "ipython",
    "version": 3
   },
   "file_extension": ".py",
   "mimetype": "text/x-python",
   "name": "python",
   "nbconvert_exporter": "python",
   "pygments_lexer": "ipython3",
   "version": "3.7.3"
  },
  "toc": {
   "base_numbering": 1,
   "nav_menu": {},
   "number_sections": true,
   "sideBar": true,
   "skip_h1_title": false,
   "title_cell": "Table of Contents",
   "title_sidebar": "Contents",
   "toc_cell": false,
   "toc_position": {
    "height": "calc(100% - 180px)",
    "left": "10px",
    "top": "150px",
    "width": "165px"
   },
   "toc_section_display": true,
   "toc_window_display": false
  }
 },
 "nbformat": 4,
 "nbformat_minor": 2
}
