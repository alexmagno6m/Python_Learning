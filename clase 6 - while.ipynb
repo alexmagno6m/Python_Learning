{
 "cells": [
  {
   "cell_type": "markdown",
   "metadata": {
    "toc": true
   },
   "source": [
    "<h1>Tabla de contenido<span class=\"tocSkip\"></span></h1>\n",
    "<div class=\"toc\"><ul class=\"toc-item\"><li><ul class=\"toc-item\"><li><ul class=\"toc-item\"><li><span><a href=\"#Clase-6---loop-whale-Ing.-Alexander-Acevedo-Gómez-Clase-de-Programación-Colegio-Antonio-Baraya\" data-toc-modified-id=\"Clase-6---loop-whale-Ing.-Alexander-Acevedo-Gómez-Clase-de-Programación-Colegio-Antonio-Baraya-0.0.1\"><span class=\"toc-item-num\">0.0.1&nbsp;&nbsp;</span>Clase 6 - loop whale <br>Ing. Alexander Acevedo Gómez <br>Clase de Programación <br>Colegio Antonio Baraya</a></span></li></ul></li></ul></li><li><span><a href=\"#Loop-while\" data-toc-modified-id=\"Loop-while-1\"><span class=\"toc-item-num\">1&nbsp;&nbsp;</span>Loop while</a></span><ul class=\"toc-item\"><li><span><a href=\"#Sintaxis\" data-toc-modified-id=\"Sintaxis-1.1\"><span class=\"toc-item-num\">1.1&nbsp;&nbsp;</span>Sintaxis</a></span></li><li><span><a href=\"#Uso-de-contadores\" data-toc-modified-id=\"Uso-de-contadores-1.2\"><span class=\"toc-item-num\">1.2&nbsp;&nbsp;</span>Uso de contadores</a></span></li><li><span><a href=\"#Ejemplo-usando-contador\" data-toc-modified-id=\"Ejemplo-usando-contador-1.3\"><span class=\"toc-item-num\">1.3&nbsp;&nbsp;</span>Ejemplo usando contador</a></span><ul class=\"toc-item\"><li><span><a href=\"#Explicación\" data-toc-modified-id=\"Explicación-1.3.1\"><span class=\"toc-item-num\">1.3.1&nbsp;&nbsp;</span>Explicación</a></span></li></ul></li><li><span><a href=\"#Ejercicio\" data-toc-modified-id=\"Ejercicio-1.4\"><span class=\"toc-item-num\">1.4&nbsp;&nbsp;</span>Ejercicio</a></span></li></ul></li></ul></div>"
   ]
  },
  {
   "cell_type": "markdown",
   "metadata": {},
   "source": [
    "### Clase 6 - loop whale <br>Ing. Alexander Acevedo Gómez <br>Clase de Programación <br>Colegio Antonio Baraya"
   ]
  },
  {
   "attachments": {
    "Capture8.PNG": {
     "image/png": "[encoded data removed]"
    }
   },
   "cell_type": "markdown",
   "metadata": {},
   "source": [
    "# Loop while\n",
    "El loop (ciclo en español) while de Python ejecuta un conjunto de sentencias siempre y cuando  la condición planteada sea verdadera. El ciclo se romperá cuando ésta pase a ser falsa.\n",
    "## Sintaxis\n",
    "> La sentencia se compone de una o más condiciones que reportan internamente dentro de Python uno de dos posibles estados: _True_(verdadero) o _False_(falso); en seguida, un conjunto de instrucciones las cuales se repetirán hasta que la condición pase a ser falsa.\n",
    ">![Capture8.PNG](attachment:Capture8.PNG)\n",
    ">\n",
    "> - __while__: Palabra reservada que le indica al interprete de Python el inicio del ciclo.\n",
    "> - __condition__: un conjunto de condiciones que se evaluaran\n",
    "> - __bloque de sentencias__: las cuales se ejecutarán si el conjunto de condiciones son verdaderas.\n",
    ">\n",
    "> Si desde el principio la condición reporta _false_ el ciclo no se ejecutará.\n",
    "\n",
    "## Uso de contadores\n",
    "> Los contadores permiten ejercer un control sobe el ciclo, deben declararse antes, hacen parte de la condición y generalmente se autoincrementan dentro del ciclo, aunque tambien pueden decrementarse. El uso de contadores no es  norma dentro del loop _while_, sin embargo, en la mayoría de casos es necesario\n",
    "## Ejemplo usando contador\n",
    "> Suponga que desea comprobar la tabla de multiplicar de un número cualquiera, esta deberá imprimir cada resultado y detenerse hasta que se supere cierto valor.\n",
    ">\n",
    "> En el siguiente caso, el número a multiplicar es 500 y queremos efectuar la operación hasta que el total supere a 10000."
   ]
  },
  {
   "cell_type": "code",
   "execution_count": 3,
   "metadata": {},
   "outputs": [
    {
     "name": "stdout",
     "output_type": "stream",
     "text": [
      "500\n",
      "1000\n",
      "1500\n",
      "2000\n",
      "2500\n",
      "3000\n",
      "3500\n",
      "4000\n",
      "4500\n",
      "5000\n",
      "5500\n",
      "6000\n",
      "6500\n",
      "7000\n",
      "7500\n",
      "8000\n",
      "8500\n",
      "9000\n",
      "9500\n",
      "10000\n"
     ]
    }
   ],
   "source": [
    "i = 1\n",
    "total = 0\n",
    "while total < 10000:\n",
    "    total = 500 * i\n",
    "    print(total)\n",
    "    i += 1"
   ]
  },
  {
   "cell_type": "markdown",
   "metadata": {},
   "source": [
    ">> ### Explicación\n",
    ">> - __Contador i__: servirá para multiplicar a 500 por éste, inicia con un valor de 1. Se define antes del ciclo __siempre__.\n",
    ">> - __total__: aunque desconocemos el total, se debe indicar un valor,  sino lo hacemos de esta manera, Python mostrará error de variable sin asingación. Intente ejecutar la siguiente instrucción:"
   ]
  },
  {
   "cell_type": "raw",
   "metadata": {},
   "source": [
    "while valor <= 0:\n",
    "    print(valor)"
   ]
  },
  {
   "cell_type": "markdown",
   "metadata": {},
   "source": [
    ">> Como se observa muestra error debido a que la variable _valor_ no tenía ningun dato asignado antes de le ejecución de while.\n",
    ">> - __while total < 10000__: la condición establece que el ciclo se ejecutará mientras que el total sea menor a 10000.\n",
    ">> - __total = 500 * i__: se multiplica el número seleccionado, en este caso 500, por el contador.\n",
    ">> - __print(total)__: se imprime el resultado\n",
    ">>- __i+=1__: el contador i, se incrementará en 1.<br>\n",
    "\n",
    "## Ejercicio\n",
    "> Realice el código al control de ingreso de un sitio web, el código debe estar almacenado en una función llamada _ingreso_. \n",
    ">\n",
    "> __Funcionamiento__: el progrma debe solicitar el nombre del usuario y la contraseña, verifica si es correcta, en ese caso muestra un mensaje. Si alguno de los datos no coincide, el usuario cuenta con tres intentos más para volverlos a ingresar.\n",
    ">\n",
    "> __Condición__: el programa debe hacer uso de while, for no está permitido.\n",
    ">\n",
    "> Guarde su archivo como es habitual:\n",
    ">\n",
    "> apellidoEstudiante1_apellidoEstudiante2.py"
   ]
  }
 ],
 "metadata": {
  "hide_input": false,
  "kernelspec": {
   "display_name": "Python 3",
   "language": "python",
   "name": "python3"
  },
  "language_info": {
   "codemirror_mode": {
    "name": "ipython",
    "version": 3
   },
   "file_extension": ".py",
   "mimetype": "text/x-python",
   "name": "python",
   "nbconvert_exporter": "python",
   "pygments_lexer": "ipython3",
   "version": "3.7.3"
  },
  "toc": {
   "base_numbering": 1,
   "nav_menu": {},
   "number_sections": true,
   "sideBar": true,
   "skip_h1_title": false,
   "title_cell": "Tabla de contenido",
   "title_sidebar": "Contents",
   "toc_cell": true,
   "toc_position": {},
   "toc_section_display": true,
   "toc_window_display": true
  }
 },
 "nbformat": 4,
 "nbformat_minor": 2
}
