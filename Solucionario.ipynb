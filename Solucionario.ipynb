{
 "cells": [
  {
   "cell_type": "markdown",
   "metadata": {},
   "source": [
    "# Solución Actividades"
   ]
  },
  {
   "cell_type": "markdown",
   "metadata": {},
   "source": [
    "## Actividad 3: Funciones que retornan un valor\n",
    "### Descripción\n",
    ">Escriba para cada problema una funcion que lo pueda resolver:\n",
    "> 1. Una funcion que se la pase como parametro el año de nacimiento, y calcule la edad actual, por ejemplo suponga que la funcion se llama edad y que el usuario nació en el año 2000, entonces al llamar la función deberia retornar 19. Despues de llamar a la funcion, compruebe su operación, usando un intercambio de variables, para que indique cuantos años le harian falta a esa persona para cumplir 30 años.\n",
    ">\n",
    "> ### Solución"
   ]
  },
  {
   "cell_type": "markdown",
   "metadata": {},
   "source": [
    "def calculo_edad(nacimiento):\n",
    "    edad_actual = 2019 - nacimiento\n",
    "    return edad_actual"
   ]
  },
  {
   "cell_type": "markdown",
   "metadata": {},
   "source": [
    "> La función al pasarle el parámetro \"nacimiento\" calcula la edad actual: restando al año corriente el valor de dicho parámetro. Con esto se resuelve la primera parte.\n",
    ">\n",
    "> Si por ejemplo, le pasamos como parámetro 2000, la función debe retornar 19, guardamos el resultado en una variable y la imprimimos:"
   ]
  },
  {
   "cell_type": "code",
   "execution_count": 2,
   "metadata": {},
   "outputs": [
    {
     "name": "stdout",
     "output_type": "stream",
     "text": [
      "19\n"
     ]
    }
   ],
   "source": [
    "x = calculo_edad(2000)\n",
    "print(x)"
   ]
  },
  {
   "cell_type": "markdown",
   "metadata": {},
   "source": [
    "> Para la segunda parte, si queremos saber cuanto le hace falta a esa persona para cumplir 30 años, restamos a dicha variable 30 y almacenamos el resultado en otra variable, para imprimir:"
   ]
  },
  {
   "cell_type": "code",
   "execution_count": 3,
   "metadata": {},
   "outputs": [
    {
     "name": "stdout",
     "output_type": "stream",
     "text": [
      "11\n"
     ]
    }
   ],
   "source": [
    "cuenta_regresiva = 30 - x\n",
    "print(cuenta_regresiva)"
   ]
  },
  {
   "cell_type": "markdown",
   "metadata": {},
   "source": [
    "> A esta persona como tiene 19 años le harían falta 11 para cumplir 30 👍\n",
    ">\n",
    "> 2. Una funcion que calcule el precio total de usar transmilenio en el dia, la funcion debe recibir como parametro la cantidad de viajes y el precio del pasaje, compruebe la funcion calculando por aparte cuanto podria costar el transporte al mes.\n",
    "> ### Solución"
   ]
  },
  {
   "cell_type": "code",
   "execution_count": 7,
   "metadata": {},
   "outputs": [],
   "source": [
    "def transmilenio(cantidad, precio):\n",
    "    total_dia = cantidad * precio\n",
    "    return total_dia"
   ]
  },
  {
   "cell_type": "markdown",
   "metadata": {},
   "source": [
    "> Para la segunda parte,  se almacena el valor de retorno de la función  en la variable _dia_, pasando como parámetros: 5 viajes y 2400 el precio: "
   ]
  },
  {
   "cell_type": "code",
   "execution_count": 10,
   "metadata": {},
   "outputs": [
    {
     "name": "stdout",
     "output_type": "stream",
     "text": [
      "12000\n"
     ]
    }
   ],
   "source": [
    "dia = transmilenio(5, 2400)\n",
    "print(dia)"
   ]
  },
  {
   "cell_type": "markdown",
   "metadata": {},
   "source": [
    "> Al día se está gastando en pasajes 12000 pesos.\n",
    "> \n",
    ">Por último, para hallar el total mensual: en la variable _mes_ se multiplica _dia_ por 30 y se imprime:"
   ]
  },
  {
   "cell_type": "code",
   "execution_count": 9,
   "metadata": {},
   "outputs": [
    {
     "name": "stdout",
     "output_type": "stream",
     "text": [
      "360000\n"
     ]
    }
   ],
   "source": [
    "mes = dia * 30\n",
    "print(mes)"
   ]
  },
  {
   "cell_type": "markdown",
   "metadata": {},
   "source": [
    "> Lo cual equivale a 12000 por 30. 😊"
   ]
  },
  {
   "cell_type": "markdown",
   "metadata": {},
   "source": [
    "## Actividad 4: Métodos en listas\n",
    "### Ordenando - Método _sort_\n",
    ">Lista original del ejercicio contiene los siguientes elementos"
   ]
  },
  {
   "cell_type": "code",
   "execution_count": 1,
   "metadata": {},
   "outputs": [],
   "source": [
    "mis_peliculas = ['avengers', 'spiderman', 'toy story', 'anabelle']"
   ]
  },
  {
   "cell_type": "markdown",
   "metadata": {},
   "source": [
    "> Usando el método sort sin ningún argumento adcional, los elementos se ordenan en forma ascendente:"
   ]
  },
  {
   "cell_type": "code",
   "execution_count": 3,
   "metadata": {},
   "outputs": [
    {
     "name": "stdout",
     "output_type": "stream",
     "text": [
      "['anabelle', 'avengers', 'spiderman', 'toy story']\n"
     ]
    }
   ],
   "source": [
    "mis_peliculas.sort()\n",
    "print(mis_peliculas)"
   ]
  },
  {
   "cell_type": "markdown",
   "metadata": {},
   "source": [
    "> Para ordenar los elementos en forma descendente se usa el argumento _reverse_:"
   ]
  },
  {
   "cell_type": "code",
   "execution_count": 5,
   "metadata": {},
   "outputs": [
    {
     "name": "stdout",
     "output_type": "stream",
     "text": [
      "['toy story', 'spiderman', 'avengers', 'anabelle']\n"
     ]
    }
   ],
   "source": [
    "mis_peliculas.sort(reverse=True)\n",
    "print(mis_peliculas)"
   ]
  },
  {
   "cell_type": "markdown",
   "metadata": {},
   "source": [
    "### Obteniendo el índice de la lista\n",
    "> Para conocer el índice que ocupa un determinado elemento en la lista se usa el método _index_, por ejemplo para obtener el indice del elemento \"spiderman\":"
   ]
  },
  {
   "cell_type": "code",
   "execution_count": 6,
   "metadata": {},
   "outputs": [
    {
     "name": "stdout",
     "output_type": "stream",
     "text": [
      "1\n"
     ]
    }
   ],
   "source": [
    "a = mis_peliculas.index(\"spiderman\")\n",
    "print(a)"
   ]
  },
  {
   "cell_type": "markdown",
   "metadata": {},
   "source": [
    "\"Spiderman\" ocupa el índice _1_ debido a que en Python la indexación inicia con el número cero."
   ]
  },
  {
   "cell_type": "markdown",
   "metadata": {},
   "source": [
    "# Actividad 5: ciclo for\n",
    "El ciclo _for_ es útil para recorrer los elementos de una lista o arreglo conociendo su longitud, para lo cual nos podemos valer del método _lenght_."
   ]
  },
  {
   "cell_type": "code",
   "execution_count": 16,
   "metadata": {},
   "outputs": [],
   "source": [
    "nombres_estudiantes = ['Daniela', 'Carlos', 'Alex', 'Carolina']\n",
    "calificaciones = [35, 40, 25, 10]"
   ]
  },
  {
   "cell_type": "markdown",
   "metadata": {},
   "source": [
    ">Si queremos imprimir un mensaje para cada elemento de la lista de estudiantes junto a sus respectivas calificaciones"
   ]
  },
  {
   "cell_type": "code",
   "execution_count": 19,
   "metadata": {},
   "outputs": [
    {
     "name": "stdout",
     "output_type": "stream",
     "text": [
      "la calificacion de  Daniela es 35\n",
      "la calificacion de  Carlos es 40\n",
      "la calificacion de  Alex es 25\n",
      "la calificacion de  Carolina es 10\n"
     ]
    }
   ],
   "source": [
    "a = len(nombres_estudiantes)\n",
    "for i in range(a):\n",
    "    print(\"la calificacion de \", nombres_estudiantes[i], \"es\", calificaciones[i])\n",
    " "
   ]
  },
  {
   "cell_type": "code",
   "execution_count": null,
   "metadata": {},
   "outputs": [],
   "source": []
  }
 ],
 "metadata": {
  "hide_input": false,
  "kernelspec": {
   "display_name": "Python 3",
   "language": "python",
   "name": "python3"
  },
  "language_info": {
   "codemirror_mode": {
    "name": "ipython",
    "version": 3
   },
   "file_extension": ".py",
   "mimetype": "text/x-python",
   "name": "python",
   "nbconvert_exporter": "python",
   "pygments_lexer": "ipython3",
   "version": "3.7.3"
  },
  "toc": {
   "base_numbering": 1,
   "nav_menu": {},
   "number_sections": true,
   "sideBar": true,
   "skip_h1_title": false,
   "title_cell": "Table of Contents",
   "title_sidebar": "Contents",
   "toc_cell": false,
   "toc_position": {},
   "toc_section_display": true,
   "toc_window_display": true
  }
 },
 "nbformat": 4,
 "nbformat_minor": 2
}
