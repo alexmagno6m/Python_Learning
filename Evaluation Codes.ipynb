{
 "cells": [
  {
   "cell_type": "markdown",
   "id": "6b54dbad",
   "metadata": {},
   "source": [
    "## Registration codes"
   ]
  },
  {
   "cell_type": "markdown",
   "id": "d4b1013f",
   "metadata": {},
   "source": [
    "A continuacion usted encontrara el codigo que le permitira acceder a la plataforma __ClassMarker__, tenga en cuenta:\n",
    "- EL codigo es personal e intransferible\n",
    "- No use el codigo asignado a otra persona, esto le implicará sanciones\n",
    "- EL codigo solo se puede usar __UNA VEZ__"
   ]
  },
  {
   "cell_type": "markdown",
   "id": "ae49cbde",
   "metadata": {},
   "source": [
    "## Codigos"
   ]
  },
  {
   "cell_type": "markdown",
   "id": "c69af641",
   "metadata": {},
   "source": [
    "| Estudiante                              | Código            |\n",
    "|-----------------------------------------|-------------------|\n",
    "|   ACEVEDO QUINTERO ANLLI VANESA         |   RE5115835207D9  |\n",
    "|   CAÑON PEÑA MARLON JULIAN              |   NE4115835200Y9  |\n",
    "|   GALINDO MARTA JOHAN SEBASTIAN         |   QA9115835202NM  |\n",
    "|   GONZALEZ RUIZ VALERI ALEJANDRA        |   N91115835206DC  |\n",
    "|   LATORRE LAGAREJO JACKSON STEVEN       |   VT5115835208KJ  |\n",
    "|   MARROQUIN GUAYACUNDO NICOLAS ESTEBAN  |   FA4115835202G9  |\n",
    "|   PEÑA MUÑOZ NICOL DAYANA               |   690115835208YX  |\n",
    "|   PINILLA FAJARDO DAVID                 |   NG0115835204X3  |\n",
    "|   QUINTANA SANCHEZ TIFFANY VANESSA      |   QG1115835202TB  |\n",
    "|   QUINTERO MONTAÑEZ SEBASTIAN           |   6N2115835200RD  |\n",
    "|   RODRIGUEZ CASALLAS MARIA PAULA        |   6E3115835205TM  |\n",
    "|   ROSAS RAMIREZ JEAN SEBASTIAN          |   B46115835200RN  |\n",
    "|   VANEGAS MONTES JOHAN SEBASTIAN        |   KH2115835208MR  |"
   ]
  },
  {
   "cell_type": "markdown",
   "id": "1100c12f",
   "metadata": {},
   "source": [
    "### Registrarse en la plataforma con su codigo unico"
   ]
  },
  {
   "cell_type": "markdown",
   "id": "85c1b45c",
   "metadata": {},
   "source": [
    "Haga clic en el siguiente enlace:\n",
    "\n",
    "[ClassMarker](https://www.classmarker.com/register/)"
   ]
  }
 ],
 "metadata": {
  "kernelspec": {
   "display_name": "Python 3 (ipykernel)",
   "language": "python",
   "name": "python3"
  },
  "language_info": {
   "codemirror_mode": {
    "name": "ipython",
    "version": 3
   },
   "file_extension": ".py",
   "mimetype": "text/x-python",
   "name": "python",
   "nbconvert_exporter": "python",
   "pygments_lexer": "ipython3",
   "version": "3.12.1"
  },
  "toc": {
   "base_numbering": 1,
   "nav_menu": {},
   "number_sections": true,
   "sideBar": true,
   "skip_h1_title": false,
   "title_cell": "Table of Contents",
   "title_sidebar": "Contents",
   "toc_cell": false,
   "toc_position": {},
   "toc_section_display": true,
   "toc_window_display": false
  }
 },
 "nbformat": 4,
 "nbformat_minor": 5
}
