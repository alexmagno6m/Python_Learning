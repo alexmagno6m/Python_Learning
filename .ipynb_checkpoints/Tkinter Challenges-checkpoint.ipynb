{
 "cells": [
  {
   "cell_type": "markdown",
   "id": "21caf666",
   "metadata": {},
   "source": [
    "# Tkinter Challenges"
   ]
  },
  {
   "cell_type": "markdown",
   "id": "1193fff6",
   "metadata": {},
   "source": [
    "### Instrucciones\n",
    "1. Conforme un equipo de maximo la cantidad que se indique en cada reto\n",
    "2. Seleccione uno de los retos\n",
    "3. Debe desarrollar para el reto lo siguiente:\n",
    "- Diseñar la interfaz del usuario (sketch) en _Pencil_, todos los retos deben tener un boton __Cancel__.\n",
    "- Debe tener un boton __Reset__ que borre las entradas que se hayan escrito.\n",
    "- Crear el codigo para representarla.\n",
    "- Escribir el codigo funcional.\n",
    "- Cumplir con todos los requisitos del problema.\n",
    "- Debe hacer uso de los estilos de ```tkk```\n",
    "- Debe usar el metodo de posicionamiento grid preferiblemente\n",
    "4. Presentar el codigo al jurado y responder las preguntas.\n",
    "5. Hacer __focus__ en la __primera entrada de texto__.\n",
    "6. __Ejecutar el comando__ de funcionamiento en la __ultima entrada de texto__.\n",
    "7. Implementar las correcciones que el jurado proponga.\n",
    "\n",
    "Faltas eliminatorias:\n",
    "- Usar cualquier sistema de inteligencia artificial para intentar solucionar los problemas\n",
    "- Recibir ayuda de otro equipo directa o indirectamente\n",
    "- Consultar videoturorial sin autorizacion del profesor\n",
    "- Consultar un repositorio de codigo que contenga la solucion\n",
    "- Consultar una pagina de ayuda que proporcione directamente la solucion: stackoverflow, quora, reddit\n",
    "- La busqueda de la solucion debe omitir la palabra \"Python\"."
   ]
  },
  {
   "cell_type": "markdown",
   "id": "af8595c7",
   "metadata": {},
   "source": [
    "## Reto 1 - Palindromo\n",
    "Crea un programa que verifique si una palabra ingresada por el usuario es un palíndromo (es decir, se lee igual de izquierda a derecha y de derecha a izquierda). Las siguientes son ejemplos de Palindromos:\n",
    "\n",
    "- Radar\n",
    "- Ana\n",
    "- Somos\n",
    "- Seres\n",
    "- Reconocer\n",
    "\n",
    "El programa debe recibir como entrada una palabra cualquiera y confirmar si es o no un palindromo a travez de una salida de texto en la misma ventana\n",
    "> Participantes: 2"
   ]
  },
  {
   "cell_type": "markdown",
   "id": "3e2716b3",
   "metadata": {},
   "source": [
    "## Reto 2 - Generador de passwords\n",
    "Desarrolla un programa que genere a travez de una salida de texto contraseñas aleatorias para los usuarios. Las contraseñas deben tener una longitud especificada por el usuario (con una entrada) y contener obligatoriamente una combinación de letras mayusculas y minusculas, números y símbolos en cualquier orden.\n",
    "- Entrada: 8\n",
    "- Salida: R57&fg*9\n",
    "> Participantes: 2"
   ]
  },
  {
   "cell_type": "markdown",
   "id": "9986e347",
   "metadata": {},
   "source": [
    "## Reto 3 - Validador de tarjetas de credito\n",
    "Crea un programa que verifique si un número de tarjeta de crédito ingresado por el usuario es válido utilizando el algoritmo de Luhn. Este algoritmo es utilizado por las compañías de tarjetas de crédito para validar los números de tarjeta. Puede consultar en que consiste este algoritmo. Como entrada debe recibir una secuencia de 12 numeros, el programa debe devolver si es numero de tarjeta valido y ademas identificar si es Visa o MasterCard.\n",
    "\n",
    "- Entrada: 451022541236 => \n",
    "- salida: Numero Valido! (Valid Card Number) - Visa\n",
    "> Participantes: 3"
   ]
  },
  {
   "cell_type": "markdown",
   "id": "36b026af",
   "metadata": {},
   "source": [
    "## Reto 4 - Simulador de Loteria"
   ]
  },
  {
   "cell_type": "markdown",
   "id": "a859528d",
   "metadata": {},
   "source": [
    "Desarrolla un programa que simule un juego de lotería. El programa debe permitir al usuario ingresar un conjunto de seis números del 1 al 25 y luego generar números ganadores de manera aleatoria y presentarse en orden ascendente. El programa debe verificar cuántos números coinciden entre la selección del usuario y los números ganadores.\n",
    "- Entrada: 12 21 3 24 8 16 \n",
    "- Salida: => No ganaste el premio mayor 15 17 20 21 23 24 - Tuviste 1 acierto! \n",
    "> Participantes: 3"
   ]
  },
  {
   "cell_type": "markdown",
   "id": "9154ed44",
   "metadata": {},
   "source": [
    "## Reto 5 - Cifrado Cesar"
   ]
  },
  {
   "cell_type": "markdown",
   "id": "d7d7cbad",
   "metadata": {},
   "source": [
    "Implementa un programa que pueda cifrar y descifrar mensajes utilizando el cifrado César. El cifrado César es una técnica de cifrado simple en la que cada letra del mensaje se desplaza un número fijo de posiciones en el alfabeto. Para el caso del problema el desplazamiento es de 5 posiciones a la derecha, por ejemplo:\n",
    "\n",
    "- La letra A tiene la posicion 1, cifrada es reemplazada por la letra F que ocupa la posicion 6 (1 + 5)\n",
    "\n",
    "El programa debe recibir una palabra cifrada y entregar el texto descifrado.\n",
    "> Participantes: 2"
   ]
  },
  {
   "cell_type": "markdown",
   "id": "fbf19965",
   "metadata": {},
   "source": [
    "## Reto 6 - Dias de vida"
   ]
  },
  {
   "cell_type": "markdown",
   "id": "8504c1ed",
   "metadata": {},
   "source": [
    "Crea un programa que indique cuantos dias lleva viviendo una persona una vez que el usuario proporcione la fecha de nacimiento (dia, mes, año) y el nombre, cada uno de los datos debe ingresarse en entradas independientes."
   ]
  },
  {
   "cell_type": "markdown",
   "id": "5de49f01",
   "metadata": {},
   "source": [
    "- JUAN 1998 2 25 => JUAN Llevas viviendo 9239 dias!"
   ]
  },
  {
   "cell_type": "markdown",
   "id": "03ad1b04",
   "metadata": {},
   "source": [
    "> Participantes: 2"
   ]
  },
  {
   "cell_type": "markdown",
   "id": "6530d60a",
   "metadata": {},
   "source": [
    "## Reto 7 - Buscador de palabras"
   ]
  },
  {
   "cell_type": "markdown",
   "id": "0b1a330c",
   "metadata": {},
   "source": [
    "Desarrolla un programa que busque todas las apariciones de una palabra específica en un texto ingresado por el usuario (maximo 10 palabras). El programa debe mostrar la cantidad de veces que aparece la palabra y las posiciones en las que se encuentra."
   ]
  },
  {
   "cell_type": "markdown",
   "id": "1aafeb9c",
   "metadata": {},
   "source": [
    "- Entradas : \"La niña esta con esa niña\" - niña \n",
    "- Salida: => 2 veces, posiciones 1 y 5"
   ]
  },
  {
   "cell_type": "markdown",
   "id": "0afbdbef",
   "metadata": {},
   "source": [
    "> Participantes: 3"
   ]
  },
  {
   "cell_type": "markdown",
   "id": "87b8292f",
   "metadata": {},
   "source": [
    "## Reto 8 - Validador de contraseña segura"
   ]
  },
  {
   "cell_type": "markdown",
   "id": "5a57d735",
   "metadata": {},
   "source": [
    "Escribe un programa que verifique si una contraseña ingresada por el usuario cumple con los siguientes criterios: debe tener al menos 8 caracteres, contener al menos una letra mayúscula, una letra minúscula y un número"
   ]
  },
  {
   "cell_type": "markdown",
   "id": "fd4206df",
   "metadata": {},
   "source": [
    "- Entrada: T13ados! \n",
    "-Salida: => La contraseña es segura!"
   ]
  },
  {
   "cell_type": "markdown",
   "id": "2f0ca804",
   "metadata": {},
   "source": [
    "> Participantes: 2"
   ]
  },
  {
   "cell_type": "markdown",
   "id": "35d5cfb2",
   "metadata": {},
   "source": [
    "## Reto 9 - Juego del Ahorcado"
   ]
  },
  {
   "cell_type": "markdown",
   "id": "bdb97c99",
   "metadata": {},
   "source": [
    "Crea un programa que implemente el juego del Ahorcado. El programa debe seleccionar una palabra aleatoria (de un listado previamente realizado de 10 palabras) y permitir al jugador adivinar letras (en una entrada, una letra por vez). Si el jugador adivina correctamente, se revelan todas las apariciones de esa letra en la palabra. Si el jugador agota todas las oportunidades (maximo 5) antes de adivinar la palabra completa, pierde el juego."
   ]
  },
  {
   "cell_type": "markdown",
   "id": "786f52e9",
   "metadata": {},
   "source": [
    "- Palabra oculta: Prom \n",
    "- Entrada: => r \n",
    "- salida: => _ r _ _ \n",
    "- Entrada: => a \n",
    "- Salida: => quedan cuatro oportunidades \n",
    "- Entrada=> P \n",
    "- Salida => P r _ _ ..."
   ]
  },
  {
   "cell_type": "markdown",
   "id": "7384eb21",
   "metadata": {},
   "source": [
    "> Paricipantes: 3"
   ]
  }
 ],
 "metadata": {
  "kernelspec": {
   "display_name": "Python 3 (ipykernel)",
   "language": "python",
   "name": "python3"
  },
  "language_info": {
   "codemirror_mode": {
    "name": "ipython",
    "version": 3
   },
   "file_extension": ".py",
   "mimetype": "text/x-python",
   "name": "python",
   "nbconvert_exporter": "python",
   "pygments_lexer": "ipython3",
   "version": "3.9.4"
  },
  "toc": {
   "base_numbering": 1,
   "nav_menu": {},
   "number_sections": true,
   "sideBar": true,
   "skip_h1_title": false,
   "title_cell": "Table of Contents",
   "title_sidebar": "Contents",
   "toc_cell": false,
   "toc_position": {},
   "toc_section_display": true,
   "toc_window_display": false
  }
 },
 "nbformat": 4,
 "nbformat_minor": 5
}
