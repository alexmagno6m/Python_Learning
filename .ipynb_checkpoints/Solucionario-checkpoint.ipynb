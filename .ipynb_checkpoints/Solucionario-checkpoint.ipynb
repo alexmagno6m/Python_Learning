{
 "cells": [
  {
   "cell_type": "markdown",
   "metadata": {},
   "source": [
    "# Solución Actividades"
   ]
  },
  {
   "cell_type": "markdown",
   "metadata": {},
   "source": [
    "## Actividad 3: Funciones que retornan un valor\n",
    ">### Descripción\n",
    ">Escriba para cada problema una funcion que lo pueda resolver:\n",
    "> 1. Una funcion que se la pase como parametro el año de nacimiento, y calcule la edad actual, por ejemplo suponga que la funcion se llama edad y que el usuario nació en el año 2000, entonces al llamar la función deberia retornar 19. Despues de llamar a la funcion, compruebe su operación, usando un intercambio de variables, para que indique cuantos años le harian falta a esa persona para cumplir 30 años.\n",
    "> ### Solución"
   ]
  },
  {
   "cell_type": "code",
   "execution_count": 1,
   "metadata": {},
   "outputs": [],
   "source": [
    "def calculo_edad(nacimiento):\n",
    "    edad_actual = 2019 - nacimiento\n",
    "    return edad_actual"
   ]
  },
  {
   "cell_type": "markdown",
   "metadata": {},
   "source": [
    "> La función al pasarle el parámetro \"nacimiento\" calcula la edad actual: restando al año corriente el valor de dicho parámetro. Con esto se resuelve la primera parte.\n",
    ">\n",
    "> Si por ejemplo, le pasamos como parámetro 2000, la función debe retornar 19, guardamos el resultado en una variable y la imprimimos:"
   ]
  },
  {
   "cell_type": "code",
   "execution_count": 2,
   "metadata": {},
   "outputs": [
    {
     "name": "stdout",
     "output_type": "stream",
     "text": [
      "19\n"
     ]
    }
   ],
   "source": [
    "x = calculo_edad(2000)\n",
    "print(x)"
   ]
  },
  {
   "cell_type": "markdown",
   "metadata": {},
   "source": [
    "> Para la segunda parte, si queremos saber cuanto le hace falta a esa persona para cumplir 30 años, restamos a dicha variable 30 y almacenamos el resultado en otra variable, para imprimir:"
   ]
  },
  {
   "cell_type": "code",
   "execution_count": 3,
   "metadata": {},
   "outputs": [
    {
     "name": "stdout",
     "output_type": "stream",
     "text": [
      "11\n"
     ]
    }
   ],
   "source": [
    "cuenta_regresiva = 30 - x\n",
    "print(cuenta_regresiva)"
   ]
  },
  {
   "cell_type": "markdown",
   "metadata": {},
   "source": [
    "> A esta persona como tiene 19 años le harían falta 11 para cumplir 30 👍\n",
    ">\n",
    "> 2. Una funcion que calcule el precio total de usar transmilenio en el dia, la funcion debe recibir como parametro la cantidad de viajes y el precio del pasaje, compruebe la funcion calculando por aparte cuanto podria costar el transporte al mes.\n",
    "> ### Solución"
   ]
  },
  {
   "cell_type": "code",
   "execution_count": 7,
   "metadata": {},
   "outputs": [],
   "source": [
    "def transmilenio(cantidad, precio):\n",
    "    total_dia = cantidad * precio\n",
    "    return total_dia"
   ]
  },
  {
   "cell_type": "markdown",
   "metadata": {},
   "source": [
    "> Para la segunda parte,  se almacena el valor de retorno de la función  en la variable _dia_, pasando como parámetros: 5 viajes y 2400 el precio: "
   ]
  },
  {
   "cell_type": "code",
   "execution_count": 10,
   "metadata": {},
   "outputs": [
    {
     "name": "stdout",
     "output_type": "stream",
     "text": [
      "12000\n"
     ]
    }
   ],
   "source": [
    "dia = transmilenio(5, 2400)\n",
    "print(dia)"
   ]
  },
  {
   "cell_type": "markdown",
   "metadata": {},
   "source": [
    "> Al día se está gastando en pasajes 12000 pesos.\n",
    "> \n",
    ">Por último, para hallar el total mensual: en la variable _mes_ se multiplica _dia_ por 30 y se imprime:"
   ]
  },
  {
   "cell_type": "code",
   "execution_count": 9,
   "metadata": {},
   "outputs": [
    {
     "name": "stdout",
     "output_type": "stream",
     "text": [
      "360000\n"
     ]
    }
   ],
   "source": [
    "mes = dia * 30\n",
    "print(mes)"
   ]
  },
  {
   "cell_type": "markdown",
   "metadata": {},
   "source": [
    "> Lo cual equivale a 12000 por 30. 😊"
   ]
  }
 ],
 "metadata": {
  "hide_input": false,
  "kernelspec": {
   "display_name": "Python 3",
   "language": "python",
   "name": "python3"
  },
  "language_info": {
   "codemirror_mode": {
    "name": "ipython",
    "version": 3
   },
   "file_extension": ".py",
   "mimetype": "text/x-python",
   "name": "python",
   "nbconvert_exporter": "python",
   "pygments_lexer": "ipython3",
   "version": "3.7.3"
  }
 },
 "nbformat": 4,
 "nbformat_minor": 2
}
