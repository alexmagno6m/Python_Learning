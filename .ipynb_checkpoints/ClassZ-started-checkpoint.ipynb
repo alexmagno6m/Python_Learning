{
 "cells": [
  {
   "cell_type": "markdown",
   "id": "85276781",
   "metadata": {
    "toc": true
   },
   "source": [
    "<h1>Table of Contents<span class=\"tocSkip\"></span></h1>\n",
    "<div class=\"toc\"><ul class=\"toc-item\"><li><ul class=\"toc-item\"><li><span><a href=\"#Zero-Class-Started\" data-toc-modified-id=\"Zero-Class-Started-0.1\"><span class=\"toc-item-num\">0.1&nbsp;&nbsp;</span>Zero Class Started</a></span></li></ul></li><li><span><a href=\"#Primitivas-variables-y-expresiones\" data-toc-modified-id=\"Primitivas-variables-y-expresiones-1\"><span class=\"toc-item-num\">1&nbsp;&nbsp;</span>Primitivas variables y expresiones</a></span><ul class=\"toc-item\"><li><span><a href=\"#Python-name-identifiers\" data-toc-modified-id=\"Python-name-identifiers-1.1\"><span class=\"toc-item-num\">1.1&nbsp;&nbsp;</span>Python name identifiers</a></span></li><li><span><a href=\"#Aritmethic-operators\" data-toc-modified-id=\"Aritmethic-operators-1.2\"><span class=\"toc-item-num\">1.2&nbsp;&nbsp;</span>Aritmethic operators</a></span></li><li><span><a href=\"#Consideraciones-operadores-de-comparación-o-relacionales.\" data-toc-modified-id=\"Consideraciones-operadores-de-comparación-o-relacionales.-1.3\"><span class=\"toc-item-num\">1.3&nbsp;&nbsp;</span>Consideraciones operadores de comparación o relacionales.</a></span></li></ul></li><li><span><a href=\"#Conditionals-and-flow-control\" data-toc-modified-id=\"Conditionals-and-flow-control-2\"><span class=\"toc-item-num\">2&nbsp;&nbsp;</span>Conditionals and flow control</a></span><ul class=\"toc-item\"><li><span><a href=\"#Worse-operator\" data-toc-modified-id=\"Worse-operator-2.1\"><span class=\"toc-item-num\">2.1&nbsp;&nbsp;</span>Worse operator</a></span></li><li><span><a href=\"#Break-and-continue-statements\" data-toc-modified-id=\"Break-and-continue-statements-2.2\"><span class=\"toc-item-num\">2.2&nbsp;&nbsp;</span>Break and continue statements</a></span></li></ul></li><li><span><a href=\"#Strings\" data-toc-modified-id=\"Strings-3\"><span class=\"toc-item-num\">3&nbsp;&nbsp;</span>Strings</a></span><ul class=\"toc-item\"><li><span><a href=\"#String-format\" data-toc-modified-id=\"String-format-3.1\"><span class=\"toc-item-num\">3.1&nbsp;&nbsp;</span>String format</a></span></li><li><span><a href=\"#Slicing-operator\" data-toc-modified-id=\"Slicing-operator-3.2\"><span class=\"toc-item-num\">3.2&nbsp;&nbsp;</span>Slicing operator</a></span></li></ul></li><li><span><a href=\"#Lists\" data-toc-modified-id=\"Lists-4\"><span class=\"toc-item-num\">4&nbsp;&nbsp;</span>Lists</a></span></li><li><span><a href=\"#Tuples\" data-toc-modified-id=\"Tuples-5\"><span class=\"toc-item-num\">5&nbsp;&nbsp;</span>Tuples</a></span></li><li><span><a href=\"#Sets\" data-toc-modified-id=\"Sets-6\"><span class=\"toc-item-num\">6&nbsp;&nbsp;</span>Sets</a></span><ul class=\"toc-item\"><li><span><a href=\"#Set-operators\" data-toc-modified-id=\"Set-operators-6.1\"><span class=\"toc-item-num\">6.1&nbsp;&nbsp;</span>Set operators</a></span></li></ul></li><li><span><a href=\"#Looping\" data-toc-modified-id=\"Looping-7\"><span class=\"toc-item-num\">7&nbsp;&nbsp;</span>Looping</a></span><ul class=\"toc-item\"><li><span><a href=\"#For-loop\" data-toc-modified-id=\"For-loop-7.1\"><span class=\"toc-item-num\">7.1&nbsp;&nbsp;</span>For loop</a></span></li><li><span><a href=\"#While-loop\" data-toc-modified-id=\"While-loop-7.2\"><span class=\"toc-item-num\">7.2&nbsp;&nbsp;</span>While loop</a></span></li></ul></li><li><span><a href=\"#Silly-jobs-project\" data-toc-modified-id=\"Silly-jobs-project-8\"><span class=\"toc-item-num\">8&nbsp;&nbsp;</span>Silly jobs project</a></span></li></ul></div>"
   ]
  },
  {
   "cell_type": "markdown",
   "id": "7b1624f9",
   "metadata": {},
   "source": [
    "### Zero Class Started"
   ]
  },
  {
   "cell_type": "markdown",
   "id": "6b10d49c",
   "metadata": {},
   "source": [
    "## Primitivas variables y expresiones\n",
    "```\n",
    "51 # int\n",
    "5.1 # float\n",
    "\"fifty-one\" # string\n",
    "True # bool\n",
    "```\n",
    "> Una variable es un nombre que se refiere a un valor, un valor representa un objeto de algun tipo"
   ]
  },
  {
   "cell_type": "code",
   "execution_count": 3,
   "id": "28e63bf5",
   "metadata": {},
   "outputs": [],
   "source": [
    "x = 51"
   ]
  },
  {
   "cell_type": "markdown",
   "id": "37c256da",
   "metadata": {},
   "source": [
    "> Usted como buena practica de programación debe hacer referencias a variables y no a valores, al menos que el contexto del programa lo requiera."
   ]
  },
  {
   "cell_type": "markdown",
   "id": "35af8445",
   "metadata": {},
   "source": [
    "### Python name identifiers\n",
    "Identifier is a name used to identify a variable, function, class, module, etc. The identifier is a combination of character digits and underscore. The identifier should start with a character or Underscore then use a digit. The characters are A-Z or a-z, an Underscore ( _ ) , and digit (0-9). we should not use special characters ( #, @, $, !, &, etc) in identifiers. \n",
    "[Fuente](https://www.geeksforgeeks.org/python-keywords-and-identifiers/)\n",
    "<br>\n",
    "\n",
    "> Valid identifiers\n",
    "<br>\n",
    "\n",
    "```\n",
    "var1\n",
    "_var1\n",
    "_myVar\n",
    "_my_var\n",
    "```\n",
    "\n",
    "> Wrong identifiers\n",
    "<br>\n",
    "```\n",
    "&myVar\n",
    "1var\n",
    "var#2\n",
    "```\n",
    "<br>"
   ]
  },
  {
   "cell_type": "markdown",
   "id": "afaefd10",
   "metadata": {},
   "source": [
    "### Aritmethic operators"
   ]
  },
  {
   "cell_type": "markdown",
   "id": "179201be",
   "metadata": {},
   "source": [
    "| Operation | Description                 |\n",
    "|-----------|-----------------------------|\n",
    "| x - y     | Substraction                |\n",
    "| x * y     | Multiplication              |\n",
    "| x / y     | Division                    |\n",
    "| x // y    | Truncation division         |\n",
    "| x ** y    | Power (x to the y power)    |\n",
    "| x % y     | Modulo (x mod y), remainder |\n",
    "| -x        | Unary minus                 |\n",
    "| +x        | Unary plus                  |"
   ]
  },
  {
   "cell_type": "code",
   "execution_count": 4,
   "id": "4c0ac8ff",
   "metadata": {},
   "outputs": [
    {
     "data": {
      "text/plain": [
       "3"
      ]
     },
     "execution_count": 4,
     "metadata": {},
     "output_type": "execute_result"
    }
   ],
   "source": [
    "x = 10\n",
    "y = 3\n",
    "x // y"
   ]
  },
  {
   "cell_type": "code",
   "execution_count": 5,
   "id": "aa0073dc",
   "metadata": {},
   "outputs": [
    {
     "data": {
      "text/plain": [
       "3.3333333333333335"
      ]
     },
     "execution_count": 5,
     "metadata": {},
     "output_type": "execute_result"
    }
   ],
   "source": [
    "x / y"
   ]
  },
  {
   "cell_type": "code",
   "execution_count": 6,
   "id": "3162725e",
   "metadata": {},
   "outputs": [
    {
     "data": {
      "text/plain": [
       "1"
      ]
     },
     "execution_count": 6,
     "metadata": {},
     "output_type": "execute_result"
    }
   ],
   "source": [
    "x % y"
   ]
  },
  {
   "cell_type": "code",
   "execution_count": 7,
   "id": "805498cd",
   "metadata": {},
   "outputs": [
    {
     "data": {
      "text/plain": [
       "1000"
      ]
     },
     "execution_count": 7,
     "metadata": {},
     "output_type": "execute_result"
    }
   ],
   "source": [
    "x ** y"
   ]
  },
  {
   "cell_type": "markdown",
   "id": "d7663420",
   "metadata": {},
   "source": [
    "### Consideraciones operadores de comparación o relacionales.\n",
    "> Igual A <br>\n",
    "> x == y <br>\n",
    "> No es igual a <br>\n",
    "> x != y"
   ]
  },
  {
   "cell_type": "markdown",
   "id": "265842ab",
   "metadata": {},
   "source": [
    "## Conditionals and flow control\n",
    "```\n",
    "if a < b:\n",
    "    print('Computer says Yes')\n",
    "else:\n",
    "    print('Computer says No')\n",
    "\n",
    "```\n",
    "Los bloques if y else son limitados por la indentación\n",
    "```\n",
    "if suffix == '.htm': \n",
    "    content = 'text/html'\n",
    "elif suffix == '.jpg': \n",
    "    content = 'image/jpeg'\n",
    "elif suffix == '.png': \n",
    "    content = 'image/png'\n",
    "else:\n",
    "    raise RuntimeError(f'Unknown content type {suffix!r}')\n",
    "```\n",
    "Para evaluar multiples casos se usa la declaración _elif_."
   ]
  },
  {
   "cell_type": "markdown",
   "id": "0b19ea61",
   "metadata": {},
   "source": [
    "### Worse operator\n",
    "A partir de Python 3.8 es posible definir una variable en la misma declaracion condicional, para esto se usa el operador __worse :=__ (morsa en español):"
   ]
  },
  {
   "cell_type": "code",
   "execution_count": 10,
   "id": "7c49f32f",
   "metadata": {},
   "outputs": [
    {
     "name": "stdout",
     "output_type": "stream",
     "text": [
      "b is major\n"
     ]
    }
   ],
   "source": [
    "if (a := 5) > (b := 10):\n",
    "    print('a is major')\n",
    "else:\n",
    "    print('b is major')"
   ]
  },
  {
   "cell_type": "markdown",
   "id": "a3b12665",
   "metadata": {},
   "source": [
    "> El paréntesis es obligatorio en la declaración condicional, Esta misma expresión es similar anteriormente a:"
   ]
  },
  {
   "cell_type": "code",
   "execution_count": 9,
   "id": "772d3e04",
   "metadata": {},
   "outputs": [
    {
     "name": "stdout",
     "output_type": "stream",
     "text": [
      "b is major\n"
     ]
    }
   ],
   "source": [
    "a = 5\n",
    "b = 10\n",
    "if a > b:\n",
    "    print('a is major')\n",
    "else:\n",
    "    print('b is major')"
   ]
  },
  {
   "cell_type": "markdown",
   "id": "158c44d2",
   "metadata": {},
   "source": [
    "### Break and continue statements\n",
    "La sentencia ```break``` sirve para interrumpir cualquier ciclo en donde se requiera.\n",
    "La sentencia ```continue``` salta el resto del cuerpo del ciclo y lo regresa al principio."
   ]
  },
  {
   "cell_type": "markdown",
   "id": "3d7ff1fd",
   "metadata": {},
   "source": [
    "## Strings\n",
    "Los siguientes ejemplos son válidos como strings\n",
    "```\n",
    "a = 'Hello World'\n",
    "b = \"Python is groovy\"\n",
    "c = '''Computer says no.'''\n",
    "d = \"\"\"Computer still says no.\"\"\"\n",
    "```\n",
    "El tipo de comilla usada al inicio de la cadena debe ser el mismo para el final.\n",
    "> Las comillas triples dobles son usadas para strings multi linea.\n",
    "\n",
    "### String format\n",
    "El metodo __.format()__ es usado para incluir variables dentro de una cadena.\n",
    "\n",
    "### Slicing operator\n",
    "Para extrar una subcadena se usa el operador ```slicing``` (cortado):\n",
    "```\n",
    "s[i:j]\n",
    "```\n",
    "Extrae todos los caracteres de ```s``` cuyo indice ```k``` se encuentra en el rango $ i >= k < j$, si se omite cualquiera de los indices ```i```,```j``` se asume el principio o final de la cadena respectivamente.\n",
    "<br>\n",
    "\n",
    "| s | H | e | l | l | o |   | w | o | r | l | d  |\n",
    "|---|---|---|---|---|---|---|---|---|---|---|----|\n",
    "| k | 0 | 1 | 2 | 3 | 4 | 5 | 6 | 7 | 8 | 9 | 10 |"
   ]
  },
  {
   "cell_type": "markdown",
   "id": "b9980ae2-2ed5-46bd-aca5-cdb66b028972",
   "metadata": {},
   "source": [
    "## Ejercicio strings"
   ]
  },
  {
   "cell_type": "markdown",
   "id": "e286873a-0396-4a33-8ebf-9c596df2a1c4",
   "metadata": {},
   "source": [
    "Para obtener el sello, copie en su cuaderno:\n",
    "- __Ámbito conceptual__: Estructura de datos colecciones\n",
    "- __Competencia:__ 2\n",
    "- __Objetivo__: Usar el metodo slice para extraer secciones de una cadena\n",
    "- __Título de la actividad:__ Uso del operador ```slice``` aplicado a strings"
   ]
  },
  {
   "cell_type": "markdown",
   "id": "b453ac13-fa0e-4739-a85d-4dd43fea0990",
   "metadata": {},
   "source": [
    "1. Investigue en internet como se agrega un enlace a correo electrónico en ```html```, posteriormente defina cuatro variables ```first_name```, ```last_name```, ```phone``` y ```my_email```, empleando las comillas adecuadas, configure el siguiente texto, reemplace los campos con las variables corresponidentes empleando el método ```format```, la direccion de email debe aparecer segun el código que investigó:\n",
    "```\n",
    "Me llamo nombre apellido\n",
    "mis datos de contacto son:\n",
    "email: dirección de email,\n",
    "celular: numero\n",
    "```\n",
    "2. Desde el [siguiente enlace](https://es.wikipedia.org/wiki/Zen_de_Python), cree una nueva variable con el identificador ```zen```, la cual debe contener la frase del zen de Python que se le indicó en clase. Una vez creada, extraiga las partes que se le solicitan empleando ```slice```:\n",
    "\n",
    "    1. La ultima palabra\n",
    "    2. La ultima letra\n",
    "    3. La segunda palabra\n",
    "    4. La tercera palabra\n",
    "    5. Convierta la tercera palabra toda a mayúsculas, emplee el metodo ```upper```.\n",
    "    6. Reemplace la primera palabra por _\"programación\"_\n",
    "    7. Divida toda la frase"
   ]
  },
  {
   "cell_type": "markdown",
   "id": "0690a6e6",
   "metadata": {},
   "source": [
    "## Lists\n",
    "Son colecciones arbitrarias de objetos, las listas se crean con paréntesis angulares o corchetes\n",
    "```\n",
    "[]\n",
    "```\n",
    "Las listas son indexadas por enteros, el primer indice es el cero, el indexing operator sirve para acceder o modificar elementos individuales de la lista.\n",
    "```\n",
    "my_list = ['february', 2023, 'class', 'emi']\n",
    "```\n",
    "Su indexado\n",
    "\n",
    "| __item__ | february | 2023 | class | emi |\n",
    "|------|----------|------|-------|-----|\n",
    "| __i__    | 0        | 1    | 2     | 3   |\n"
   ]
  },
  {
   "cell_type": "code",
   "execution_count": 11,
   "id": "2e659a8e",
   "metadata": {},
   "outputs": [
    {
     "data": {
      "text/plain": [
       "2023"
      ]
     },
     "execution_count": 11,
     "metadata": {},
     "output_type": "execute_result"
    }
   ],
   "source": [
    "my_list = ['february', 2023, 'class', 'emi']\n",
    "my_list[1]"
   ]
  },
  {
   "cell_type": "markdown",
   "id": "3aba1a3c",
   "metadata": {},
   "source": [
    "## Tuples\n",
    "Las tuplas son estructura de datos inmutables, sus elementos no pueden ser cambiados, se crean con paréntisis.\n",
    "```\n",
    "my_tuple = (1, 2, 3\n",
    "```\n",
    "Los elementos de una tupla se pueden extraer de la misma forma como procede con las listas."
   ]
  },
  {
   "cell_type": "markdown",
   "id": "e761aefe",
   "metadata": {},
   "source": [
    "## Sets\n",
    "Los sets son colecciones de objetos unicos sin ordenar (no puede haber elementos repetidos), su uso mas comun es la administracion de membresías en aplicaciones o para encontrar elementos únicos. Se crea con el uso de llaves.\n",
    "```\n",
    "{}\n",
    "```\n",
    "También usando el metodo _set_:\n",
    "```\n",
    "set(iterable)\n",
    "```\n",
    "### Set operators\n",
    "| Operator | Description          |\n",
    "|----------|----------------------|\n",
    "| \\|       | Union                |\n",
    "| &        | Intersection         |\n",
    "| -        | Difference           |\n",
    "| ^        | Symmetric difference |\n"
   ]
  },
  {
   "cell_type": "markdown",
   "id": "480ef45a",
   "metadata": {},
   "source": [
    "## Looping"
   ]
  },
  {
   "cell_type": "markdown",
   "id": "98347df2",
   "metadata": {},
   "source": [
    "### For loop"
   ]
  },
  {
   "cell_type": "markdown",
   "id": "430bb7d6",
   "metadata": {},
   "source": [
    "El loop (ciclo) más ampliamente usado en Python y en la mayoría de lenguajes de programacion es _For_. Una manera común de iteración es recorrer una secuencia, como por ejemplo una cadena, lista o tupla."
   ]
  },
  {
   "cell_type": "code",
   "execution_count": 3,
   "id": "494fcc56",
   "metadata": {},
   "outputs": [
    {
     "name": "stdout",
     "output_type": "stream",
     "text": [
      " el cuadrado de 1 es 1\n",
      " el cuadrado de 2 es 4\n",
      " el cuadrado de 3 es 9\n",
      " el cuadrado de 4 es 16\n",
      " el cuadrado de 5 es 25\n",
      " el cuadrado de 6 es 36\n",
      " el cuadrado de 7 es 49\n",
      " el cuadrado de 8 es 64\n",
      " el cuadrado de 9 es 81\n"
     ]
    }
   ],
   "source": [
    "numbers = [1, 2, 3, 4, 5, 6, 7, 8, 9]\n",
    "for n in numbers:\n",
    "    print(f' el cuadrado de {n} es {n**2}')"
   ]
  },
  {
   "cell_type": "markdown",
   "id": "476e6091",
   "metadata": {},
   "source": [
    "> En este ejemplo la variable n es asignada sucesivamente a los items de la lista _numbers_ en cada iteración, es decir en cada recorrido recibe un nuevo valor del objeto iterable. __n es conocida como la variable iteradora__. El ciclo opera hasta que no haya mas elementos en el objeto iterable. Otra forma comun es indicarle una lista de enteros usando la funcion _range_:"
   ]
  },
  {
   "cell_type": "code",
   "execution_count": 2,
   "id": "da4f2885",
   "metadata": {},
   "outputs": [
    {
     "name": "stdout",
     "output_type": "stream",
     "text": [
      " el cuadrado de 1 es 1\n",
      " el cuadrado de 2 es 4\n",
      " el cuadrado de 3 es 9\n",
      " el cuadrado de 4 es 16\n",
      " el cuadrado de 5 es 25\n",
      " el cuadrado de 6 es 36\n",
      " el cuadrado de 7 es 49\n",
      " el cuadrado de 8 es 64\n",
      " el cuadrado de 9 es 81\n"
     ]
    }
   ],
   "source": [
    "for n in range (1, 10):\n",
    "    print(f' el cuadrado de {n} es {n**2}')"
   ]
  },
  {
   "cell_type": "markdown",
   "id": "14cde4e7",
   "metadata": {},
   "source": [
    "> La funcion _range_ se puede especificar como _range(i, j [, step])_, la cual crea un objeto que representa un rango de enteros con valores de i hasta j (sin incluir a j), si el valor de inicio _i_ es omitido, se toma en su lugar el numero cero. Se el valor _step_ es omitido se toma como paso el numero 1. La funcion _range_ solo admite numeros enteros."
   ]
  },
  {
   "cell_type": "markdown",
   "id": "f59eccc2",
   "metadata": {},
   "source": [
    "> El comodin * almacena dentro de la variable que se defina inmediatamente despues los valores extras que encuentre en un objeto iterable"
   ]
  },
  {
   "cell_type": "markdown",
   "id": "0fdb4e0d",
   "metadata": {},
   "source": [
    "> La funcion _zip_ sirve para combinar dos o mas objetos iterables, se detiene cuando se encuentre el ultimo item del objeto iterable de menor longitud. Los items son extraidos a una tupla. Se puede convertir a lista usando la funcion _list_, por ejemplo:"
   ]
  },
  {
   "cell_type": "markdown",
   "id": "5ff770ab",
   "metadata": {},
   "source": [
    "```\n",
    "list(zip(iterable1, iterable2))\n",
    "```"
   ]
  },
  {
   "cell_type": "markdown",
   "id": "cbff7063",
   "metadata": {},
   "source": [
    "### While loop"
   ]
  },
  {
   "cell_type": "markdown",
   "id": "cf0b5741",
   "metadata": {},
   "source": [
    "La declaracion _while_ ejecuta instrucciones hasta que la expresion asociada pasa a ser _false_. "
   ]
  },
  {
   "cell_type": "code",
   "execution_count": 2,
   "id": "20d43279",
   "metadata": {},
   "outputs": [
    {
     "name": "stdout",
     "output_type": "stream",
     "text": [
      "la potencia de 1 es 1\n",
      "la potencia de 2 es 4\n",
      "la potencia de 3 es 9\n",
      "la potencia de 4 es 16\n",
      "la potencia de 5 es 25\n",
      "la potencia de 6 es 36\n",
      "la potencia de 7 es 49\n",
      "la potencia de 8 es 64\n",
      "la potencia de 9 es 81\n"
     ]
    }
   ],
   "source": [
    "numbers = [1, 2, 3, 4, 5, 6, 7, 8, 9]\n",
    "i = 0\n",
    "while i < len(numbers):\n",
    "    print(f'la potencia de {numbers[i]} es {numbers[i]**2}')\n",
    "    i += 1"
   ]
  },
  {
   "cell_type": "markdown",
   "id": "3761394d",
   "metadata": {},
   "source": [
    "## Silly jobs project"
   ]
  },
  {
   "cell_type": "markdown",
   "id": "ba45cf53",
   "metadata": {},
   "source": [
    "El proyecto consiste en crear una combinación de las listas ```work1``` y ```work2``` para crear un trabajo de profesiones tontas, la idea es usar una combinación de ```while``` junto con el módulo ```random``` el cual provee una selección al azar de un elemento de cada lista. El control de flujo del proyecto se realizará con la pulsación de la tecla \"Enter\" para continuar generando trabajos tontos o la tecla \"n\" para detener."
   ]
  },
  {
   "cell_type": "code",
   "execution_count": 5,
   "id": "160432c6",
   "metadata": {},
   "outputs": [],
   "source": [
    "work1 = [\n",
    "\"Salvador de\",\n",
    "\"Protector de\",\n",
    "\"Defensor de\",\n",
    "\"Vigilante de\",\n",
    "\"Luchador contra\",\n",
    "\"Capitán de\",\n",
    "\"Jefe de la misión de\",\n",
    "\"Entrenador de\",\n",
    "\"Combatiente contra\",\n",
    "\"Guardián de\",\n",
    "\"Líder de\",\n",
    "\"Jefe de la misión para\",\n",
    "\"Líder de la lucha contra\",\n",
    "\"Defensor de los derechos de\",\n",
    "\"Jefe de la misión para salvar a\",\n",
    "]\n",
    "\n",
    "work2 = [\n",
    "\" los gatos en árboles\",\n",
    "\"los sugar daddys\",\n",
    "\" los derechos de los unicornios\",\n",
    "\" la justicia en la lucha contra el aburrimiento\",\n",
    "\"las viejitas pensionadas\",\n",
    "\" las mujeres que aman el colageno\",\n",
    "\" rescate de gente atrapada en laberintos\",\n",
    "\" la tanga en los hombres\",\n",
    "\" la maldición de la muerte del payaso\",\n",
    "\" la clave para entender a las mujeres\",\n",
    "\" la expedición para encontrar mujeres sin bendicion\",\n",
    "\"la liberacion de los rehenes de los villanos\",\n",
    "\"evitar que un hombre mienta\",\n",
    "\" salvar al mundo de la destrucción\",\n",
    "\" la invasión de las mujeres fieles\",\n",
    "\"el demonio de mi cuarto\",\n",
    "\" detener a las mujeres que tienen mas de un novio\",\n",
    "\" la deteccion de los hombres fieles\",\n",
    "\" salvar a los prisioneros de las garras del mal\",\n",
    "\" la invasión de los zombis\",\n",
    "\" el crecimiento de las bubbys\",\n",
    "\" encontrar la fuente de la eterna juventud\",\n",
    "\" la amenaza de la invasión de bendiciones\",\n",
    "\" encontrar la ciudad perdida de las amazonas\",\n",
    "\" la amenaza de los robots asesinos\",\n",
    "\" resistir la tentacion\",\n",
    "\"el hallazgo de viejitas pensionadas proximas a morir\",\n",
    "\" la amenaza de la oscuridad en el multiverso\",\n",
    "\" salvar al mundo de los hombres que tienen ojos para varias\",\n",
    "\" la invasión de las virgenes\",\n",
    "\" encontrar mujeres fieles\",\n",
    "\" la amenaza de la invasión de los fantasmas\",\n",
    "\" salvar a las mujeres de los hombres mentirosos\",\n",
    "\" las chicas webcam\",\n",
    "\" los chicos webcam\",\n",
    "\"las mujeres facturando en onlyfans\",\n",
    "\"los hombres facturando en onlyfans\",\n",
    "]"
   ]
  }
 ],
 "metadata": {
  "kernelspec": {
   "display_name": "Python 3 (ipykernel)",
   "language": "python",
   "name": "python3"
  },
  "language_info": {
   "codemirror_mode": {
    "name": "ipython",
    "version": 3
   },
   "file_extension": ".py",
   "mimetype": "text/x-python",
   "name": "python",
   "nbconvert_exporter": "python",
   "pygments_lexer": "ipython3",
   "version": "3.12.1"
  },
  "toc": {
   "base_numbering": 1,
   "nav_menu": {},
   "number_sections": true,
   "sideBar": true,
   "skip_h1_title": false,
   "title_cell": "Table of Contents",
   "title_sidebar": "Contents",
   "toc_cell": true,
   "toc_position": {},
   "toc_section_display": true,
   "toc_window_display": true
  }
 },
 "nbformat": 4,
 "nbformat_minor": 5
}
