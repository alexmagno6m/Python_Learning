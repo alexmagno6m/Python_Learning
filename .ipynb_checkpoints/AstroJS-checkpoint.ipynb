{
 "cells": [
  {
   "cell_type": "markdown",
   "id": "aa5ab4da-e3a7-4716-8687-b73ad6768ee9",
   "metadata": {},
   "source": [
    "# Astro Commands"
   ]
  },
  {
   "cell_type": "markdown",
   "id": "f974f767-45bd-45ae-8a23-c6ad6e1c5305",
   "metadata": {},
   "source": [
    "### Iniciar un nuevo proyecto"
   ]
  },
  {
   "cell_type": "markdown",
   "id": "c08ab0fb-1442-4e44-861b-e9c288acb349",
   "metadata": {},
   "source": [
    "1. En la terminal (CMD, PowerShell o similar) ubicarse en la carpeta donde se almacenará el proyecto.\n",
    "2. Ejecutar el siguiente comando:"
   ]
  },
  {
   "cell_type": "markdown",
   "id": "629ac62a-3410-4b0c-96ab-5f39b08e2b91",
   "metadata": {},
   "source": [
    "```npm create astro@latest```"
   ]
  },
  {
   "cell_type": "markdown",
   "id": "bf259ba9-aee6-40a6-8fb1-471a75aa4040",
   "metadata": {},
   "source": [
    "### Ejecutar un proyecto"
   ]
  },
  {
   "cell_type": "markdown",
   "id": "33741a6a-bcda-40e6-a3cb-ed741ead5369",
   "metadata": {},
   "source": [
    "1. Abrir VSCode\n",
    "2. Abrir una nueva terminal\n",
    "3. Ejecutar el siguiente comando"
   ]
  },
  {
   "cell_type": "markdown",
   "id": "0cc08770-62f0-4734-99e6-6c166d515697",
   "metadata": {},
   "source": [
    "```npm run dev```"
   ]
  },
  {
   "cell_type": "markdown",
   "id": "ac7b72a4-5084-400d-aeb5-0deb77ff37f1",
   "metadata": {},
   "source": [
    "### Construir un proyecto, detener la version de desarrollo"
   ]
  },
  {
   "cell_type": "markdown",
   "id": "4b0b089b-8b40-4d58-86d3-92951484a2af",
   "metadata": {},
   "source": [
    "1. Abrir VSCode\n",
    "2. Abrir una nueva terminal\n",
    "3. Ejecutar el siguiente comando"
   ]
  },
  {
   "cell_type": "markdown",
   "id": "8ae6d956-0e85-4c1c-9bc6-364d45ccd693",
   "metadata": {},
   "source": [
    "```npm run build```"
   ]
  },
  {
   "cell_type": "markdown",
   "id": "75eb904f-7105-493d-864c-bc6d98c5337b",
   "metadata": {},
   "source": [
    "### Estructura del proyecto"
   ]
  },
  {
   "cell_type": "markdown",
   "id": "704676b7-90dc-4664-b44d-17acbe9bccb9",
   "metadata": {},
   "source": [
    "```\n",
    "src/* - Your project source code (components, pages, styles, images, etc.)\n",
    "public/* - Your non-code, unprocessed assets (fonts, icons, etc.)\n",
    "package.json - A project manifest.\n",
    "astro.config.mjs - An Astro configuration file. (recommended)\n",
    "tsconfig.json - A TypeScript configuration file. (recommended)\n",
    "```"
   ]
  },
  {
   "cell_type": "markdown",
   "id": "3d87d1fb-ff1d-4aa4-9b85-0ffb7510347c",
   "metadata": {},
   "source": [
    "[Fuente](https://docs.astro.build/en/basics/project-structure/)"
   ]
  }
 ],
 "metadata": {
  "kernelspec": {
   "display_name": "Python 3 (ipykernel)",
   "language": "python",
   "name": "python3"
  },
  "language_info": {
   "codemirror_mode": {
    "name": "ipython",
    "version": 3
   },
   "file_extension": ".py",
   "mimetype": "text/x-python",
   "name": "python",
   "nbconvert_exporter": "python",
   "pygments_lexer": "ipython3",
   "version": "3.9.4"
  }
 },
 "nbformat": 4,
 "nbformat_minor": 5
}
