{
 "cells": [
  {
   "cell_type": "markdown",
   "id": "aa5ab4da-e3a7-4716-8687-b73ad6768ee9",
   "metadata": {},
   "source": [
    "# Astro Commands"
   ]
  },
  {
   "cell_type": "markdown",
   "id": "f974f767-45bd-45ae-8a23-c6ad6e1c5305",
   "metadata": {},
   "source": [
    "### Iniciar un nuevo proyecto"
   ]
  },
  {
   "cell_type": "markdown",
   "id": "c08ab0fb-1442-4e44-861b-e9c288acb349",
   "metadata": {},
   "source": [
    "1. En la terminal (CMD, PowerShell o similar) ubicarse en la carpeta donde se almacenará el proyecto.\n",
    "2. Ejecutar el siguiente comando:"
   ]
  },
  {
   "cell_type": "markdown",
   "id": "629ac62a-3410-4b0c-96ab-5f39b08e2b91",
   "metadata": {},
   "source": [
    "```npm create astro@latest```"
   ]
  },
  {
   "cell_type": "markdown",
   "id": "bf259ba9-aee6-40a6-8fb1-471a75aa4040",
   "metadata": {},
   "source": [
    "### Ejecutar un proyecto"
   ]
  },
  {
   "cell_type": "markdown",
   "id": "33741a6a-bcda-40e6-a3cb-ed741ead5369",
   "metadata": {},
   "source": [
    "1. Abrir VSCode\n",
    "2. Abrir una nueva terminal\n",
    "3. Ejecutar el siguiente comando"
   ]
  },
  {
   "cell_type": "markdown",
   "id": "0cc08770-62f0-4734-99e6-6c166d515697",
   "metadata": {},
   "source": [
    "```npm run dev```"
   ]
  },
  {
   "cell_type": "markdown",
   "id": "ac7b72a4-5084-400d-aeb5-0deb77ff37f1",
   "metadata": {},
   "source": [
    "### Construir un proyecto, detener la version de desarrollo"
   ]
  },
  {
   "cell_type": "markdown",
   "id": "4b0b089b-8b40-4d58-86d3-92951484a2af",
   "metadata": {},
   "source": [
    "1. Abrir VSCode\n",
    "2. Abrir una nueva terminal\n",
    "3. Ejecutar el siguiente comando"
   ]
  },
  {
   "cell_type": "markdown",
   "id": "8ae6d956-0e85-4c1c-9bc6-364d45ccd693",
   "metadata": {},
   "source": [
    "```npm run build```"
   ]
  },
  {
   "cell_type": "markdown",
   "id": "75eb904f-7105-493d-864c-bc6d98c5337b",
   "metadata": {},
   "source": [
    "### Estructura del proyecto"
   ]
  },
  {
   "cell_type": "markdown",
   "id": "704676b7-90dc-4664-b44d-17acbe9bccb9",
   "metadata": {},
   "source": [
    "```\n",
    "src/* - Your project source code (components, pages, styles, images, etc.)\n",
    "public/* - Your non-code, unprocessed assets (fonts, icons, etc.)\n",
    "package.json - A project manifest.\n",
    "astro.config.mjs - An Astro configuration file. (recommended)\n",
    "tsconfig.json - A TypeScript configuration file. (recommended)\n",
    "```"
   ]
  },
  {
   "cell_type": "markdown",
   "id": "3d87d1fb-ff1d-4aa4-9b85-0ffb7510347c",
   "metadata": {},
   "source": [
    "[Fuente](https://docs.astro.build/en/basics/project-structure/)"
   ]
  },
  {
   "cell_type": "markdown",
   "id": "305a16d9-701f-42d7-aac3-3df9cababc15",
   "metadata": {},
   "source": [
    "# Recursos del proyecto"
   ]
  },
  {
   "cell_type": "markdown",
   "id": "bbd26dbb-f424-492c-9b89-5b17a5c6b823",
   "metadata": {},
   "source": [
    "### Imagen ```SVG``` de muestra (Graficos Vectoriales Escalables)"
   ]
  },
  {
   "cell_type": "markdown",
   "id": "d989f02e-be39-4056-a100-3e094c26bcc0",
   "metadata": {},
   "source": [
    "Es un archivo vectorial (escalable, no pierde nitidez), basado en XML (lenguaje de marcado extensible, en español) que se emplea para mostrar graficos e ilustraciones en la web. Esto es posible debido a que usa formulas matematicas en lugar de pixeels, de esta manera no se pierde calidad al ampliar o al hacer zoom."
   ]
  },
  {
   "cell_type": "markdown",
   "id": "49f82246-5da8-45d6-9603-34784aa5ce6e",
   "metadata": {},
   "source": [
    "Podemos emplear archivos SVG como fondo de nuestro sitio web recurriendo a ```CSS``` para aplicar diferentes filtros y transformaciones añadiendo dinamismo, practicidad y estética."
   ]
  },
  {
   "cell_type": "markdown",
   "id": "5981d827-dc65-4225-afd9-0c936602622c",
   "metadata": {},
   "source": [
    "[Descargue el archivo de muestra](https://drive.google.com/file/d/1S-AgvTiqEiTwsgIbb3ejxHEKXFiZ5Fuj/view?usp=sharing)"
   ]
  }
 ],
 "metadata": {
  "kernelspec": {
   "display_name": "Python 3 (ipykernel)",
   "language": "python",
   "name": "python3"
  },
  "language_info": {
   "codemirror_mode": {
    "name": "ipython",
    "version": 3
   },
   "file_extension": ".py",
   "mimetype": "text/x-python",
   "name": "python",
   "nbconvert_exporter": "python",
   "pygments_lexer": "ipython3",
   "version": "3.12.1"
  }
 },
 "nbformat": 4,
 "nbformat_minor": 5
}
