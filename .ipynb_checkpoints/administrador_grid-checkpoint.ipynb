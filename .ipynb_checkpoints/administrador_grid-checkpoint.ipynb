{
 "cells": [
  {
   "cell_type": "markdown",
   "metadata": {},
   "source": [
    "# Administrador de geometria .grid (Tkinter)"
   ]
  },
  {
   "cell_type": "markdown",
   "metadata": {},
   "source": [
    "## Posicionamiento normal (sin alineación de widgets)"
   ]
  },
  {
   "cell_type": "code",
   "execution_count": 13,
   "metadata": {},
   "outputs": [],
   "source": [
    "from tkinter import *\n",
    "\n",
    "ventana = Tk()\n",
    "nombres = Label(ventana, text='Nombre y Apellido').grid(row=0)\n",
    "apellido = Label(ventana, text='Curso').grid(row=1)\n",
    "e1 = Entry(ventana).grid(row=0, column=1)\n",
    "e2 = Entry(ventana).grid(row=1, column=1)\n",
    "ventana.mainloop()"
   ]
  },
  {
   "cell_type": "markdown",
   "metadata": {},
   "source": [
    "## Posicionamiento usando constantes geograficas W (oeste), E (este), N (norte), S (sur)"
   ]
  },
  {
   "cell_type": "code",
   "execution_count": 22,
   "metadata": {},
   "outputs": [],
   "source": [
    "from tkinter import *\n",
    "\n",
    "ventana = Tk()\n",
    "nombres = Label(ventana, text='Nombre y Apellido').grid(sticky=W)\n",
    "apellido = Label(ventana, text='Curso').grid(sticky=W)\n",
    "e1 = Entry(ventana).grid(row=0, column=1)\n",
    "e2 = Entry(ventana).grid(row=1, column=1)\n",
    "ventana.mainloop()"
   ]
  },
  {
   "cell_type": "code",
   "execution_count": null,
   "metadata": {},
   "outputs": [],
   "source": [
    "from tkinter import *\n",
    "\n",
    "ventana = Tk()\n",
    "nombres = Label(ventana, text='Nombre y Apellido').grid(sticky=E)\n",
    "apellido = Label(ventana, text='Curso').grid(sticky=E)\n",
    "e1 = Entry(ventana).grid(row=0, column=1)\n",
    "e2 = Entry(ventana).grid(row=1, column=1)\n",
    "ventana.mainloop()"
   ]
  },
  {
   "cell_type": "markdown",
   "metadata": {},
   "source": [
    "## Posicionamiento agregando imagenes"
   ]
  },
  {
   "cell_type": "code",
   "execution_count": 18,
   "metadata": {},
   "outputs": [],
   "source": [
    "from tkinter import *\n",
    "\n",
    "ventana = Tk()\n",
    "foto = PhotoImage(file=\"emoji.gif\")\n",
    "nombres = Label(ventana, text='Nombre y Apellido').grid(sticky=W)\n",
    "apellido = Label(ventana, text='Curso').grid(sticky=W)\n",
    "e1 = Entry(ventana).grid(row=0, column=1)\n",
    "e2 = Entry(ventana).grid(row=1, column=1)\n",
    "imagen = Label(ventana, image=foto).grid(row=0, column=2, rowspan=2)\n",
    "ventana.mainloop()"
   ]
  },
  {
   "cell_type": "markdown",
   "metadata": {},
   "source": [
    "## Posocionamiento agregando imagenes y botones"
   ]
  },
  {
   "cell_type": "code",
   "execution_count": 19,
   "metadata": {},
   "outputs": [],
   "source": [
    "from tkinter import *\n",
    "\n",
    "ventana = Tk()\n",
    "foto = PhotoImage(file=\"emoji.gif\")\n",
    "nombres = Label(ventana, text='Nombre y Apellido').grid(sticky=W)\n",
    "apellido = Label(ventana, text='Curso').grid(sticky=W)\n",
    "e1 = Entry(ventana).grid(row=0, column=1)\n",
    "e2 = Entry(ventana).grid(row=1, column=1)\n",
    "imagen = Label(ventana, image=foto).grid(row=0, column=2, rowspan=2, columnspan=2)\n",
    "aceptar = Button(ventana, text='Aceptar').grid(row=2, column=2)\n",
    "cancelar = Button(ventana, text='Cancelar').grid(row=2, column=3)\n",
    "ventana.mainloop()"
   ]
  },
  {
   "cell_type": "markdown",
   "metadata": {},
   "source": [
    "## Posicionamiento agregando alineacion y margen"
   ]
  },
  {
   "cell_type": "code",
   "execution_count": 21,
   "metadata": {},
   "outputs": [],
   "source": [
    "from tkinter import *\n",
    "\n",
    "ventana = Tk()\n",
    "foto = PhotoImage(file=\"emoji.gif\")\n",
    "nombres = Label(ventana, text='Nombre y Apellido').grid(sticky=W)\n",
    "apellido = Label(ventana, text='Curso').grid(sticky=W)\n",
    "e1 = Entry(ventana).grid(row=0, column=1)\n",
    "e2 = Entry(ventana).grid(row=1, column=1)\n",
    "imagen = Label(ventana, image=foto).grid(row=0, column=2, rowspan=2, columnspan=2, sticky=W+E+N+S, padx=5, pady=5)\n",
    "aceptar = Button(ventana, text='Aceptar').grid(row=2, column=2)\n",
    "cancelar = Button(ventana, text='Cancelar').grid(row=2, column=3)\n",
    "ventana.mainloop()"
   ]
  },
  {
   "cell_type": "code",
   "execution_count": null,
   "metadata": {},
   "outputs": [],
   "source": []
  }
 ],
 "metadata": {
  "kernelspec": {
   "display_name": "Python 3",
   "language": "python",
   "name": "python3"
  },
  "language_info": {
   "codemirror_mode": {
    "name": "ipython",
    "version": 3
   },
   "file_extension": ".py",
   "mimetype": "text/x-python",
   "name": "python",
   "nbconvert_exporter": "python",
   "pygments_lexer": "ipython3",
   "version": "3.7.6"
  },
  "toc": {
   "base_numbering": 1,
   "nav_menu": {},
   "number_sections": true,
   "sideBar": false,
   "skip_h1_title": false,
   "title_cell": "Table of Contents",
   "title_sidebar": "Contents",
   "toc_cell": false,
   "toc_position": {},
   "toc_section_display": true,
   "toc_window_display": true
  }
 },
 "nbformat": 4,
 "nbformat_minor": 4
}
