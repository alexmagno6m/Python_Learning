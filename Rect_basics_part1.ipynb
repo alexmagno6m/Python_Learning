{
 "cells": [
  {
   "cell_type": "markdown",
   "id": "5c486d33",
   "metadata": {},
   "source": [
    "### React Basics Part I"
   ]
  },
  {
   "cell_type": "markdown",
   "id": "512e3142",
   "metadata": {},
   "source": [
    "# Next.js"
   ]
  },
  {
   "cell_type": "markdown",
   "id": "c3a071ab",
   "metadata": {},
   "source": [
    "## Concepto\n",
    "Es un framework para React encargado de crear aplicaciones web, full stack, es decir frontend (interfaces de usuarios) y backend (lógica en el servidor). __Next.JS__ configura todas las herramientas de React para agrupar, compilar y construir la aplicación en lugar de perder tiempo en configuraciones innecesarias."
   ]
  },
  {
   "cell_type": "markdown",
   "id": "673ee0e0",
   "metadata": {},
   "source": [
    "## Estructura de directorio"
   ]
  },
  {
   "cell_type": "markdown",
   "id": "4693682d",
   "metadata": {},
   "source": [
    "### Carpetas de primer nivel"
   ]
  },
  {
   "cell_type": "markdown",
   "id": "073dbe1a",
   "metadata": {},
   "source": [
    "| Folder | Content                            |\n",
    "|--------|------------------------------------|\n",
    "| app    | App Router                         |\n",
    "| pages  | Pages Router                       |\n",
    "| public | Static assets to be served         |\n",
    "| src    | Optional application source folder |"
   ]
  },
  {
   "cell_type": "markdown",
   "id": "6ec175a4",
   "metadata": {},
   "source": [
    "### Archivos de primer nivel"
   ]
  },
  {
   "cell_type": "markdown",
   "id": "2aefd9b6",
   "metadata": {},
   "source": [
    "| Next.js            |                                         |\n",
    "|--------------------|-----------------------------------------|\n",
    "| next.config.js     | Configuration file for Next.js          |\n",
    "| package.json       | Project dependencies and scripts        |\n",
    "| instrumentation.ts | OpenTelemetry and Instrumentation file  |\n",
    "| middleware.ts      | Next.js request middleware              |\n",
    "| .env               | Environment variables                   |\n",
    "| .env.local         | Local environment variables             |\n",
    "| .env.production    | Production environment variables        |\n",
    "| .env.development   | Development environment variables       |\n",
    "| .eslintrc.json     | Configuration file for ESLint           |\n",
    "| .gitignore         | Git files and folders to ignore         |\n",
    "| next-env.d.ts      | TypeScript declaration file for Next.js |\n",
    "| tsconfig.json      | Configuration file for TypeScript       |\n",
    "| jsconfig.json      | Configuration file for JavaScript       |"
   ]
  },
  {
   "cell_type": "markdown",
   "id": "12fefb43",
   "metadata": {},
   "source": [
    "### ```app``` Routing Conventions"
   ]
  },
  {
   "cell_type": "markdown",
   "id": "720f25e9",
   "metadata": {},
   "source": [
    "| Routing Files |               |                              |\n",
    "|---------------|---------------|------------------------------|\n",
    "| layout        | .js .jsx .tsx | Layout                       |\n",
    "| page          | .js .jsx .tsx | Page                         |\n",
    "| loading       | .js .jsx .tsx | Loading UI                   |\n",
    "| not-found     | .js .jsx .tsx | Not found UI                 |\n",
    "| error         | .js .jsx .tsx | Error UI                     |\n",
    "| global-error  | .js .jsx .tsx | Global error UI              |\n",
    "| route         | .js .ts       | API endpoint                 |\n",
    "| template      | .js .jsx .tsx | Re-rendered layout           |\n",
    "| default       | .js .jsx .tsx | Parallel route fallback page |"
   ]
  },
  {
   "cell_type": "markdown",
   "id": "380b167d",
   "metadata": {},
   "source": [
    "### ```pages``` Routing Conventions"
   ]
  },
  {
   "cell_type": "markdown",
   "id": "987f2ac1",
   "metadata": {},
   "source": [
    "| Special files |               |                   |\n",
    "|---------------|---------------|-------------------|\n",
    "| _app          | .js .jsx .tsx | Custom App        |\n",
    "| _document     | .js .jsx .tsx | Custom Document   |\n",
    "| _error        | .js .jsx .tsx | Custom Error Page |\n",
    "| 404           | .js .jsx .tsx | 404 Error Page    |\n",
    "| 500           | .js .jsx .tsx | 500 Error Page    |"
   ]
  },
  {
   "cell_type": "markdown",
   "id": "2bfc481d",
   "metadata": {},
   "source": [
    "#### Routes"
   ]
  },
  {
   "cell_type": "markdown",
   "id": "48132b9e",
   "metadata": {},
   "source": [
    "| Folder convention |               |             |\n",
    "|-------------------|---------------|-------------|\n",
    "| index             | .js .jsx .tsx | Home page   |\n",
    "| folder/index      | .js .jsx .tsx | Nested page |\n",
    "| File convention   |               |             |\n",
    "| index             | .js .jsx .tsx | Home page   |\n",
    "| file              | .js .jsx .tsx | Nested page |"
   ]
  },
  {
   "cell_type": "code",
   "execution_count": null,
   "id": "839e11f9",
   "metadata": {},
   "outputs": [],
   "source": []
  }
 ],
 "metadata": {
  "kernelspec": {
   "display_name": "Python 3 (ipykernel)",
   "language": "python",
   "name": "python3"
  },
  "language_info": {
   "codemirror_mode": {
    "name": "ipython",
    "version": 3
   },
   "file_extension": ".py",
   "mimetype": "text/x-python",
   "name": "python",
   "nbconvert_exporter": "python",
   "pygments_lexer": "ipython3",
   "version": "3.9.4"
  },
  "toc": {
   "base_numbering": 1,
   "nav_menu": {},
   "number_sections": true,
   "sideBar": true,
   "skip_h1_title": false,
   "title_cell": "Table of Contents",
   "title_sidebar": "Contents",
   "toc_cell": false,
   "toc_position": {},
   "toc_section_display": true,
   "toc_window_display": false
  }
 },
 "nbformat": 4,
 "nbformat_minor": 5
}
