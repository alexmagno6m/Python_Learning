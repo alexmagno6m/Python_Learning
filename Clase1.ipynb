{
 "cells": [
  {
   "cell_type": "markdown",
   "metadata": {},
   "source": [
    "# Python - Clase 1 \n",
    "> Alexander Acevedo. Ing de sistemas <br>\n",
    "Magister en Modelado y Simulacion por computador\n",
    "## Un lenguaje de Programación que cambia al mundo\n",
    "Durante más de 20 años, Python se ha utilizado con éxito en todo el mundo como lenguaje de programación en la industria, en el sector de servicios y también en investigación y ciencia para satisfacer una amplia gama de requisitos diferentes. En este tiempo, el lenguaje ha cambiado muchas cosas. El lenguaje de programación Python es fácil de aprender. Se han desdibujado los límites entre usuarios y desarrolladores. Un número creciente de científicos, ingenieros, expertos financieros y otros con poca experiencia en programación están utilizando Python para resolver problemas técnicos complejos específicos.\n",
    "La fundacion Python publico un brochure donde se muestra el uso, aplicabilidad e importancia, el cual puede ser consultado desde este enlace:\n",
    "[Brochure Python Foundation](https://brochure.getpython.info/media/releases/psf-python-brochure-vol.-i-final-download.pdf/at_download/file)\n",
    "### Que se puede hacer con Python?\n",
    "- Python se puede utilizar en un servidor para crear aplicaciones web.\n",
    "- Python se puede utilizar junto con el software para crear flujos de trabajo.\n",
    "- Python puede conectarse a sistemas de bases de datos. También puede leer y modificar archivos.\n",
    "- Python se puede utilizar para manejar grandes volúmenes de datos y realizar matemáticas complejas.\n",
    "- Python se puede utilizar para la creación rápida de prototipos o para el desarrollo de software listo para producción.\n",
    "- Python sirve para desarrollar desde pequeñas aplicaciones moviles y de escritorio hasta poderoso software de modelacion, juegos, ingenierias, conectarse a redes sociales y relacionar datos para hacer lo imaginable posible. \n",
    "### Sintaxis en Python\n",
    "- Python fue diseñado para ser legible, y tiene algunas similitudes con el idioma inglés con influencia de las matemáticas.\n",
    "- Python usa nuevas líneas para completar un comando, a diferencia de otros lenguajes de programación que a menudo usan punto y coma o paréntesis.\n",
    "- Python se basa en la sangría, utilizando espacios en blanco, para definir el alcance; Como el alcance de los bucles, funciones y clases. Otros lenguajes de programación a menudo utilizan rizos para este propósito.\n",
    "### Indentaciones de Python\n",
    "Donde en otros lenguajes de programación la sangría en el código es solo para facilitar la lectura, en Python la sangría es muy importante. Python utiliza la sangría para indicar un bloque de código. En otros lenguajes como Java se usan las llaves: { }. En python las estructuras se definen por la sangria (indentacion). <br> Fuente: [W3Schools](https://www.w3schools.com)"
   ]
  },
  {
   "cell_type": "markdown",
   "metadata": {},
   "source": [
    "# Sintaxis y estructuras simples\n"
   ]
  },
  {
   "cell_type": "markdown",
   "metadata": {},
   "source": [
    "## Print\n",
    "Muestra salidas de informacion en la pantalla, tambien conocidas como _ouputs_.\n",
    "Ejemplo:"
   ]
  },
  {
   "cell_type": "code",
   "execution_count": 2,
   "metadata": {},
   "outputs": [
    {
     "name": "stdout",
     "output_type": "stream",
     "text": [
      "Hola mundo!\n"
     ]
    }
   ],
   "source": [
    "print('Hola mundo!')"
   ]
  },
  {
   "cell_type": "markdown",
   "metadata": {},
   "source": [
    "## Comentarios\n",
    "Los comentarios son utiles para documentar el codigo, hacer aclaraciones o simplemente \"desactivar\" ciertas lineas que no deseamos ejecutar, los comentarios se agregan usando el simbolo (#). Ejemplo:"
   ]
  },
  {
   "cell_type": "code",
   "execution_count": 6,
   "metadata": {},
   "outputs": [],
   "source": [
    "#este es un comentario en Python"
   ]
  },
  {
   "cell_type": "markdown",
   "metadata": {},
   "source": [
    "Despues de presionar enter en una linea comentada se ejecutaran con normalidad los comandos que hayan hacia abajo\n",
    "\n",
    "## Comentarios en Multilinea\n",
    "Si el comentario que queremos agregar ocupa varias lineas es conveniente usar tres comillas dobles (\"\"\") en lugar del simbolo (#). Ejemplo:"
   ]
  },
  {
   "cell_type": "raw",
   "metadata": {},
   "source": [
    "\"\"\"\n",
    "Este comentario ocupa varias lineas\n",
    "y no es necesario agregar el simbolo # al inicio\n",
    "el comentario termina al escribir otras tres comillas dobles\n",
    "\"\"\""
   ]
  },
  {
   "cell_type": "markdown",
   "metadata": {},
   "source": [
    "## Variables\n",
    "### Reglas nombres de variables en Python\n",
    "Una variable puede tener un nombre corto (como x, y) o un nombre más descriptivo (edad, nombre, total). Reglas para las variables de Python:\n",
    "- Un nombre de variable debe comenzar con una letra o el carácter de subrayado\n",
    "- Un nombre de variable no puede comenzar con un número\n",
    "- Un nombre de variable solo puede contener caracteres alfanuméricos y guiones bajos (A-z, 0-9 y _).\n",
    "- Los nombres de las variables distinguen entre mayúsculas y minúsculas (age, Age y AGE son tres variables diferentes). Esto se conoce como \"case sensitive\".\n",
    "- Las variables no pueden llamarse igual que una palabra reservada, por ejemplo: _print, def, for, while, etc_.\n",
    "\n",
    "###  Definiendo Variables\n",
    "Se definen usando el operador de asignacion igual (=)."
   ]
  },
  {
   "cell_type": "code",
   "execution_count": 1,
   "metadata": {},
   "outputs": [],
   "source": [
    "a = 10\n",
    "b = 20\n",
    "c = 'Julio'"
   ]
  },
  {
   "cell_type": "markdown",
   "metadata": {},
   "source": [
    "La parte de codigo despues del signo (=) en una variable se conoce como **valor**, el valor es a su vez un dato. En este caso la variable _b tiene asignado el valor de 20_."
   ]
  },
  {
   "cell_type": "markdown",
   "metadata": {},
   "source": [
    "### Asignando valores a multiples variables\n",
    "En Python se pueden agregar multiples variables, en una sola linea, ejemplo:"
   ]
  },
  {
   "cell_type": "code",
   "execution_count": 11,
   "metadata": {},
   "outputs": [],
   "source": [
    "a, b, c = \"lunes\", 34, 'Antonio Baraya'"
   ]
  },
  {
   "cell_type": "markdown",
   "metadata": {},
   "source": [
    "#### Ejercicio 1\n",
    "Imprima usando la variable correspondiente el numero 34\n",
    "## Tipos de datos en variables\n",
    "En Python encontramos tres tipos basicos de datos\n",
    "> ### Strings (cadenas): \n",
    "son textos, un conjunto de caracteres encadenados unos con otros\n",
    "> ### Int (integer - enteros): \n",
    "numeros enteros positivos y negativos\n",
    "> ### Float (flotantes - decimales): \n",
    "numeros decimales o racionales positivos y negativos"
   ]
  },
  {
   "cell_type": "markdown",
   "metadata": {},
   "source": [
    "## Usando variables como salidas (print)\n",
    "Las variables tambien se pueden imprimir o mostrar en pantalla. Existen diferentes metodos para hacerlo dependiendo del tipo de dato almacenado:\n",
    "### Metodo 1: con el operador (+) Solo si la variable tiene asignado como valor una cadena\n",
    "Se separa la parte del texto (string) de la variable agregando el simbolo +"
   ]
  },
  {
   "cell_type": "code",
   "execution_count": 14,
   "metadata": {},
   "outputs": [
    {
     "name": "stdout",
     "output_type": "stream",
     "text": [
      "estamos en el colegio Antonio Baraya\n"
     ]
    }
   ],
   "source": [
    "a = \"Antonio Baraya\"\n",
    "print(\"estamos en el colegio \" + a)"
   ]
  },
  {
   "cell_type": "markdown",
   "metadata": {},
   "source": [
    "Se pueden hacer combinaciones de dos o mas variables que contengan el mismo tipo de dato:"
   ]
  },
  {
   "cell_type": "code",
   "execution_count": 15,
   "metadata": {},
   "outputs": [
    {
     "name": "stdout",
     "output_type": "stream",
     "text": [
      "Rafael Uribe Uribees un barrio de Bogota\n"
     ]
    }
   ],
   "source": [
    "a = \"Rafael Uribe Uribe\"\n",
    "b = \"es un barrio de Bogota\"\n",
    "print(a + b)"
   ]
  },
  {
   "cell_type": "markdown",
   "metadata": {},
   "source": [
    "#### Ejercicio 2:\n",
    "1. Arregle el codigo anterior para que al imprimir haya un espacio entre la variable a y b\n",
    "2. Agregue la variable c y asigne la palabra Colombia\n",
    "3. Modifique de nuevo el print para que el mensaje diga: _Rafael Uribe Uribe es un barrio de Bogota Colombia_"
   ]
  },
  {
   "cell_type": "markdown",
   "metadata": {},
   "source": [
    "### Metodo 2: con el simbolo (,) cuando hay una variable que tiene asignado un valor numerico\n",
    "Cuando se desea unir en un mensaje una variable que contiene una cadena con otra que contenga un numero se debe usar la coma (,):"
   ]
  },
  {
   "cell_type": "code",
   "execution_count": 16,
   "metadata": {},
   "outputs": [
    {
     "name": "stdout",
     "output_type": "stream",
     "text": [
      "este es el año 2019\n"
     ]
    }
   ],
   "source": [
    "d = 2019\n",
    "e = \"este es el año\"\n",
    "print(e, d)"
   ]
  },
  {
   "cell_type": "markdown",
   "metadata": {},
   "source": [
    "#### Ejercicio 3:\n",
    "1. Copie el siguiente codigo:"
   ]
  },
  {
   "cell_type": "code",
   "execution_count": 19,
   "metadata": {},
   "outputs": [],
   "source": [
    "nombre: \"Alexander\" #Ojo Reemplazelo por su nombre\n",
    "colegio: \"Antonio Baraya\"\n",
    "grado: 1001"
   ]
  },
  {
   "cell_type": "markdown",
   "metadata": {},
   "source": [
    "2. Agregue un print para que se muestre el mensaje: _Estoy en el curso 1001, estudio en el colegio Antonio Baraya, mi nombre es Alexander_\n",
    "3. Indique como comentario que tipo de dato tiene almacenado la variable _colegio_ y _grado_"
   ]
  },
  {
   "cell_type": "markdown",
   "metadata": {},
   "source": [
    "## Funciones\n",
    "Las funciones son un bloque de código que solo se ejecuta cuando se llama. Puede pasar __datos__, conocidos como __parámetros__, a una función. __Una función puede devolver datos como resultado.__\n",
    "<br> Suponga desea calcular segun el mes actual cuantos meses hacen falta para terminar el año. A la funcion solo le pasaremos el mes actual como parametro:"
   ]
  },
  {
   "cell_type": "code",
   "execution_count": 24,
   "metadata": {},
   "outputs": [],
   "source": [
    "def meses_restantes(mes_actual):\n",
    "    calculo = 12 - mes_actual\n",
    "    print(\"faltan\", calculo, \"meses para terminar el año\")"
   ]
  },
  {
   "cell_type": "markdown",
   "metadata": {},
   "source": [
    "> Todo lo que se encuentre con indentacion en la funcion es tomado por el interprete de Python como parte de esta hasta que se deje de indentar.\n",
    "\n",
    "La funcion no se ejecutara hasta tanto no la llamemos, para llamar una funcion debe hacerse por fuera de la indentacion, solo se escribe el nombre que la define y el parametro que necesita, ejecutemos la funcion con el mes vigente (7):"
   ]
  },
  {
   "cell_type": "code",
   "execution_count": 25,
   "metadata": {
    "scrolled": true
   },
   "outputs": [
    {
     "name": "stdout",
     "output_type": "stream",
     "text": [
      "faltan 5 meses para terminar el año\n"
     ]
    }
   ],
   "source": [
    "meses_restantes(7)"
   ]
  },
  {
   "cell_type": "markdown",
   "metadata": {},
   "source": [
    "#### Ejercicio 4\n",
    "1. Modifique la funcion anterior para que tambien calculen los dias restantes para terminar el año, para simplificar el ejercicio imaginemos que todos los meses tienen 30 dias.\n",
    "2. Debe mostrar como mensaje \"faltan X meses y Z dias para terminar el año\". \n",
    "**Condicion** No se debe escribir en el print ninguna operacion matematica"
   ]
  },
  {
   "cell_type": "markdown",
   "metadata": {},
   "source": [
    "### Funciones que retornan un valor\n",
    "El uso de la sentencia print dentro de una funcion no es recomendable en la mayoria de casos, debido a que no se puede emplear los calculos o reutilizarlos dentro del codigo. Imagine que en el ejercicio anterior no nos interesa saber cuantos meses faltan pero si cuantos dias y por lo tanto solo requerimos de ese dato para hacer otros calculos, esto es imposible de hacer con _print_.\n",
    "Para que las funciones retornen un valor, se usa la sentencia __return__ y los valores a retornar se escriben dejando un espacio y separados por comas (,) si son mas de uno.\n",
    ">#### Ejemplo\n",
    ">Suponga que desea calcular cuantas calorias ha consumido en el dia al comprar varios paquetes de Chokis&copy; se sabe al consultar la informacion nutricional que son en total 80Kcal por paquete, por lo tanto si pasamos como parametro el numero de paquetes la funcion debe quedar como sigue:"
   ]
  },
  {
   "cell_type": "code",
   "execution_count": 26,
   "metadata": {},
   "outputs": [],
   "source": [
    "def calculo_calorias(paquetes):\n",
    "    totalCalorias = paquetes * 80 \n",
    "    return totalCalorias"
   ]
  },
  {
   "cell_type": "markdown",
   "metadata": {},
   "source": [
    "Llamemos la funcion pasando 5 paquetes:"
   ]
  },
  {
   "cell_type": "code",
   "execution_count": 27,
   "metadata": {},
   "outputs": [
    {
     "data": {
      "text/plain": [
       "400"
      ]
     },
     "execution_count": 27,
     "metadata": {},
     "output_type": "execute_result"
    }
   ],
   "source": [
    "calculo_calorias(5)"
   ]
  },
  {
   "cell_type": "markdown",
   "metadata": {},
   "source": [
    "Por simples matematicas sabemos que ha consumido en total 400 calorias:\n",
    "$$totalCalorias = 5 * 80$$\n",
    "$$totalCalorias = 400 $$\n",
    "Sin embargo, el interprete no nos muestra nada, la funcion efectivamente si se ejecuto y realizo el calculo, para poder comprobar el resultado debemos asignarle a una nueva variable el valor de retorno de nuestra funcion:"
   ]
  },
  {
   "cell_type": "code",
   "execution_count": 28,
   "metadata": {},
   "outputs": [],
   "source": [
    "total = calculo_calorias(5)"
   ]
  },
  {
   "cell_type": "markdown",
   "metadata": {},
   "source": [
    "Estamos indicando que en la variable _total_ se le asigna el valor de retorno de la funcion *calculo_calorias*, es decir _totalCalorias_. Despues solo debemos imprimir la variable _total_ para que se nos revele el calculo:"
   ]
  },
  {
   "cell_type": "code",
   "execution_count": 29,
   "metadata": {},
   "outputs": [
    {
     "name": "stdout",
     "output_type": "stream",
     "text": [
      "400\n"
     ]
    }
   ],
   "source": [
    "print(total)"
   ]
  },
  {
   "cell_type": "markdown",
   "metadata": {},
   "source": [
    "#### Ejercicio 5\n",
    "1. Defina una nueva funcion que calcule la edad actual al pasarle como parametro el año de nacimiento\n",
    "2. La funcion debe retornar la edad\n",
    "3. Compruebe la eficacia de la funcion asigandole el valor de retorno a otra variable e imprimiendola (como se hizo en el ejemplo anterior)"
   ]
  }
 ],
 "metadata": {
  "hide_input": false,
  "kernelspec": {
   "display_name": "Python 3",
   "language": "python",
   "name": "python3"
  },
  "language_info": {
   "codemirror_mode": {
    "name": "ipython",
    "version": 3
   },
   "file_extension": ".py",
   "mimetype": "text/x-python",
   "name": "python",
   "nbconvert_exporter": "python",
   "pygments_lexer": "ipython3",
   "version": "3.7.3"
  }
 },
 "nbformat": 4,
 "nbformat_minor": 2
}
