{
 "cells": [
  {
   "cell_type": "markdown",
   "metadata": {},
   "source": [
    "### Clase 3 - Python <br>Ing. Alexander Acevedo Gómez <br>Clase de Programación <br>Colegio Antonio Baraya"
   ]
  },
  {
   "cell_type": "markdown",
   "metadata": {},
   "source": [
    "# Listas, Arrays o Arreglos en Python\n",
    "Las listas hacen parte de los cuatro tipos de colecciones o conjuntos de datos que podemos encontrar en Python:\n",
    "- __Listas__: es una colección que está ordenada y es modificable. Permite elementos duplicados.\n",
    "- __Tuplas__: es una colección que está ordenada e inmutable (los elementos no pueden cambiar de posición). Permite elementos duplicados.\n",
    "- __Set (conjuntos)__: es una colección que no está ordenada ni indexada (no hay posición para los elementos). No permite elementos duplicados.\n",
    "- __Diccionario__: es una colección que no está ordenada, es modificable e indexada. No hay elementos duplicados.\n",
    "\n",
    "> ## Definiendo listas\n",
    "> Las listas se guardarse con un nombre el cual debe respetar las reglas de nombres de las variables (no iniciar con un número, no tener espacios y no usar palabras reservadas) y sus elementos se escriben entre corchetes, si hay más de un elemento, éstos se separan por comas, las listas pueden también estar vacías.\n",
    ">\n",
    "> __Ejemplo__: definamos una lista con nombre de películas:"
   ]
  },
  {
   "cell_type": "code",
   "execution_count": 12,
   "metadata": {},
   "outputs": [],
   "source": [
    "mis_peliculas = ['avengers', 'spiderman', 'toy story', 'anabelle']"
   ]
  },
  {
   "cell_type": "markdown",
   "metadata": {},
   "source": [
    "> Los elementos de la lista van entre comillas debido a que los elementos corresponden a cadenas.\n",
    ">## Accediendo a un elemento en una lista\n",
    ">### Longitud de una lista\n",
    ">Se le llama longitud al número total de elementos que hacen parte de la lista.\n",
    ">> __len__: Para obtener la longitud de una lista se usa el comando _len(nombre_lista)_, por ejemplo, para conocer la longitud de nuesta lista de películas, usamos:"
   ]
  },
  {
   "cell_type": "code",
   "execution_count": 13,
   "metadata": {},
   "outputs": [
    {
     "name": "stdout",
     "output_type": "stream",
     "text": [
      "4\n"
     ]
    }
   ],
   "source": [
    "print(len(mis_peliculas))"
   ]
  },
  {
   "cell_type": "markdown",
   "metadata": {},
   "source": [
    ">> Nuestra lista tiene 4 elementos 😉\n",
    ">### Índices\n",
    ">Cada elemento en una lista tiene un índice, corresponde a su posición actual en la lista, __los índices en Python inician en cero__, por lo tanto, el primer elemento tendrá como índice 0, de la misma forma, si una lista tiene una longitud de _nElementos_, el índice del último elemento será _nElementos - 1_.\n",
    ">\n",
    ">> Para acceder a un elemento se escribe el nombre de la lista y entre corchetes el índice del elemento en cuestión, por ejemplo, para acceder al elemento \"anabelle\", se escribe:"
   ]
  },
  {
   "cell_type": "code",
   "execution_count": 14,
   "metadata": {},
   "outputs": [
    {
     "name": "stdout",
     "output_type": "stream",
     "text": [
      "anabelle\n"
     ]
    }
   ],
   "source": [
    "print(mis_peliculas[3])"
   ]
  },
  {
   "cell_type": "markdown",
   "metadata": {},
   "source": [
    "> ## Cambiando un elemento de una lista\n",
    "> Podemos reemplazar un elemento cualquiera accediendo a su índice e indicando el nuevo valor.\n",
    "> Supongamos que reemplazamos \"spiderman\" por \"capitana marvel\":"
   ]
  },
  {
   "cell_type": "code",
   "execution_count": 15,
   "metadata": {},
   "outputs": [
    {
     "name": "stdout",
     "output_type": "stream",
     "text": [
      "['avengers', 'capitana marvel', 'toy story', 'anabelle']\n"
     ]
    }
   ],
   "source": [
    "mis_peliculas[1] = \"capitana marvel\"\n",
    "print(mis_peliculas)"
   ]
  },
  {
   "cell_type": "markdown",
   "metadata": {},
   "source": [
    "> ## Operaciones con listas\n",
    "Podemos realizar diferentes operaciones con las listas, éstas se realizan usando los _métodos especiales para listas_, los métodos en la mayoría de veces se utilizan con el nombre de la lista seguido por el operador punto (.), algunos de ellos son:\n",
    ">> ### .append (Agregando elementos)\n",
    ">> Este método agrega un elemento al final de la lista, el cual debe escribirse entre paréntisis:"
   ]
  },
  {
   "cell_type": "code",
   "execution_count": 16,
   "metadata": {},
   "outputs": [
    {
     "name": "stdout",
     "output_type": "stream",
     "text": [
      "['avengers', 'capitana marvel', 'toy story', 'anabelle', 'el rey leon']\n"
     ]
    }
   ],
   "source": [
    "mis_peliculas.append(\"el rey leon\")\n",
    "print(mis_peliculas)"
   ]
  },
  {
   "cell_type": "markdown",
   "metadata": {},
   "source": [
    ">> ### .remove (Eliminando elementos por su valor)\n",
    ">> Elimina un elemento por su __valor o nombre__, por ejemplo, si queremos suprimir _\"toy story\"_, escribimos:"
   ]
  },
  {
   "cell_type": "code",
   "execution_count": 17,
   "metadata": {},
   "outputs": [
    {
     "name": "stdout",
     "output_type": "stream",
     "text": [
      "['avengers', 'capitana marvel', 'anabelle', 'el rey leon']\n"
     ]
    }
   ],
   "source": [
    "mis_peliculas.remove('toy story')\n",
    "print(mis_peliculas)"
   ]
  },
  {
   "cell_type": "markdown",
   "metadata": {},
   "source": [
    ">> ### .pop (Eliminando elementos por su índice)\n",
    ">> Si queremos eliminar un elemento que tenga un determinado índice escribimos:"
   ]
  },
  {
   "cell_type": "code",
   "execution_count": 18,
   "metadata": {},
   "outputs": [
    {
     "name": "stdout",
     "output_type": "stream",
     "text": [
      "['avengers', 'capitana marvel', 'anabelle', 'el rey leon']\n",
      "['avengers', 'anabelle', 'el rey leon']\n"
     ]
    }
   ],
   "source": [
    "print(mis_peliculas)\n",
    "mis_peliculas.pop(1)\n",
    "print(mis_peliculas)"
   ]
  },
  {
   "cell_type": "markdown",
   "metadata": {},
   "source": [
    ">> ### .insert (Agregando un elemento en un índice específico)\n",
    ">> Se debe indicar entre paréntisis el índice y el valor del elemento, en el ejemplo anterior se eliminó a \"Capitana Marvel\", para agregarla nuevamente a su posición original se escribe:"
   ]
  },
  {
   "cell_type": "code",
   "execution_count": 19,
   "metadata": {},
   "outputs": [
    {
     "name": "stdout",
     "output_type": "stream",
     "text": [
      "['avengers', 'capitana marvel', 'anabelle', 'el rey leon']\n"
     ]
    }
   ],
   "source": [
    "mis_peliculas.insert(1, \"capitana marvel\")\n",
    "print(mis_peliculas)"
   ]
  },
  {
   "cell_type": "markdown",
   "metadata": {},
   "source": [
    "> ## Ejercicio\n",
    "> 1. Investigue en internet cuál método se usa para ordenar en forma ascendente una lista.\n",
    "> 2. Ordene la lista mis_peliculas usando el procedimiento investigado e imprima\n",
    "> 3. Investigue en internet cuál método se usa para ordenar en forma descendente una lista.\n",
    "> 4. ordente la lista mis_peliculas en forma descendente usando el procedimiento investigado.\n",
    "> 5. Investigue cual método se usa para conocer que índice ocupa un determinado elemento.\n",
    "> 6. Según el método que investigo imprima el índice del elemento \"anabelle\".\n",
    "> 7. Según lo explicado en este Jupyter Notebook realice las siguientes operaciones en la lista \"mis_peliculas\":\n",
    ">> - Agregue al final de la lista: \"aquaman\" e imprima\n",
    ">> - Inserte en el índice 3: \"Los ocho mas odiados\" e imprima\n",
    ">> - Elimine \"avengers\" e imprima.\n",
    ">\n",
    "> Guarde su archivo con el nombre especificado y súbalo en ABaco:\n",
    "> apellidoEst1_ApellidoEst2_1001.py"
   ]
  },
  {
   "cell_type": "code",
   "execution_count": null,
   "metadata": {},
   "outputs": [],
   "source": []
  }
 ],
 "metadata": {
  "hide_input": false,
  "kernelspec": {
   "display_name": "Python 3",
   "language": "python",
   "name": "python3"
  },
  "language_info": {
   "codemirror_mode": {
    "name": "ipython",
    "version": 3
   },
   "file_extension": ".py",
   "mimetype": "text/x-python",
   "name": "python",
   "nbconvert_exporter": "python",
   "pygments_lexer": "ipython3",
   "version": "3.7.3"
  }
 },
 "nbformat": 4,
 "nbformat_minor": 2
}
