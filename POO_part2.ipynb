{
 "cells": [
  {
   "cell_type": "markdown",
   "id": "7da611c4",
   "metadata": {},
   "source": [
    "# O.O.P. Part 2 - Python Inheritance and other features"
   ]
  },
  {
   "cell_type": "markdown",
   "id": "00e79136",
   "metadata": {},
   "source": [
    "La herencia es el mecanismo para crear una nueva clase que se basa en una clase ya existente (previamente definida) y por lo tanto puede modificar su comportamiento. \n",
    "> La clase original es llamada Clase Base o Clase Padre\n",
    ">\n",
    "> La nueva clase es llamada Subclase, Clase hija, Clase derivada o Subtipo de clase.\n",
    ">\n",
    "> Cuando una subclase es creada, \"hereda\" los atributos y metodos de la clase base.\n",
    "\n",
    "No obstante, Una clase derivada puede redefinir cualquiera de los atributos o metodos de la clase base como si fueran propios."
   ]
  },
  {
   "cell_type": "markdown",
   "id": "48044121",
   "metadata": {},
   "source": [
    "## Definiendo una Subclase"
   ]
  },
  {
   "cell_type": "markdown",
   "id": "dd7748d4",
   "metadata": {},
   "source": [
    "La herencia se especifica en una lista separada por comas de las clases base que va heredar en la declaracion de clase:\n",
    "```\n",
    "class MySubClass(FatherClass1, FatherClass2, ...):\n",
    "    # Subclass methods\n",
    "```"
   ]
  },
  {
   "cell_type": "markdown",
   "id": "b00e7c63",
   "metadata": {},
   "source": [
    "### Metodo ```super```"
   ]
  },
  {
   "cell_type": "markdown",
   "id": "2bdf1091",
   "metadata": {},
   "source": [
    "Para redifinir el metodo ```__init__``` agregando atributos adicionales a los de la clase base se usa el metodo ```super```"
   ]
  },
  {
   "cell_type": "markdown",
   "id": "a0b973a7",
   "metadata": {},
   "source": [
    "### Metodo ```__repr__```"
   ]
  },
  {
   "cell_type": "markdown",
   "id": "a2635a6a",
   "metadata": {},
   "source": [
    "El proposito de este metodo es servir como asistente en la depuracion para producir una salida de texto agradable."
   ]
  },
  {
   "cell_type": "markdown",
   "id": "d85bf8cb",
   "metadata": {},
   "source": [
    "### Variables de clase"
   ]
  },
  {
   "cell_type": "markdown",
   "id": "3c6fdc3d",
   "metadata": {},
   "source": [
    "Son definidas antes del metodo ```__init__``` y sirven para realizar tareas de control sobre las instancias, su modificacion se hace usando la clase y no el argumento ```self```."
   ]
  },
  {
   "cell_type": "markdown",
   "id": "542b1651",
   "metadata": {},
   "source": [
    "## Static Methods"
   ]
  },
  {
   "cell_type": "markdown",
   "id": "451f310f",
   "metadata": {},
   "source": [
    "Similar a un metodo normal de clase, pero a diferencia de estos no toma ningun argumento ```self``` o ```cls``` y se comporta como una funcion ordinaria pero dentro de la clase. Para definirlo se emplea el decorador ```@staticmethod``` antes de su declaracion.\n",
    "> Para usarlos no se crean instancias de clases (objetos), en su lugar son llamados directamente desde la clase.\n",
    ">\n",
    "> Son utiles por ejemplo para modificar variables de clase sin necesidad de instanciar objetos."
   ]
  },
  {
   "cell_type": "markdown",
   "id": "f2f6aadf",
   "metadata": {},
   "source": [
    "## Ejercicio"
   ]
  },
  {
   "cell_type": "markdown",
   "id": "6479f03d",
   "metadata": {},
   "source": [
    "Un comercio requiere implementar un carrito de compras, la funcionalidad desde el lado de la empresa ya se encuentra programada, pero se necesita construir la funcionalidad desde el lado del cliente, la cual debe proporcionar la siguientes operaciones e informacion del pedido del usuario:\n",
    "\n",
    "- Agregar productos al carrito, se requiere tipo de producto, precio y cantidad\n",
    "- Eliminar productos del carrito\n",
    "- Conocer la cantidad de productos existentes en el carrito\n",
    "- Aplicar bono de descuento a un producto\n",
    "- Conocer el valor subtotal de todos los productos antes de impuestos\n",
    "- Conocer el total de todos los productos\n",
    "- Registro de medio de pago.\n",
    "- Mostrar un resumen del pedido final.\n",
    "\n",
    "Usted debe diseñar la clase o subclases (si son necesarias) para lograr una implementacion efectiva del carrito de compras con las funcionalidades requeridas. Puede aplicar cualquiera de las caracteristicas vistas hasta el momento, los nombres de los metodos deben estar en inglés y deben estar relacionados con la tarea que ejecuta."
   ]
  }
 ],
 "metadata": {
  "kernelspec": {
   "display_name": "Python 3 (ipykernel)",
   "language": "python",
   "name": "python3"
  },
  "language_info": {
   "codemirror_mode": {
    "name": "ipython",
    "version": 3
   },
   "file_extension": ".py",
   "mimetype": "text/x-python",
   "name": "python",
   "nbconvert_exporter": "python",
   "pygments_lexer": "ipython3",
   "version": "3.9.4"
  },
  "toc": {
   "base_numbering": 1,
   "nav_menu": {},
   "number_sections": true,
   "sideBar": true,
   "skip_h1_title": false,
   "title_cell": "Table of Contents",
   "title_sidebar": "Contents",
   "toc_cell": false,
   "toc_position": {},
   "toc_section_display": true,
   "toc_window_display": false
  }
 },
 "nbformat": 4,
 "nbformat_minor": 5
}
