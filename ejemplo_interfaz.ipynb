{
 "cells": [
  {
   "cell_type": "code",
   "execution_count": 1,
   "metadata": {},
   "outputs": [],
   "source": [
    "from tkinter import *\n",
    "interfaz = Tk()\n",
    "def calcular():\n",
    "    res_Area.set(lado_mayor.get() * lado_menor.get())\n",
    "res_Area = DoubleVar()\n",
    "lado_mayor = DoubleVar()\n",
    "lado_menor = DoubleVar()\n",
    "interfaz.minsize(width=200, height=200)\n",
    "interfaz.title(\"Area del rectangulo\")\n",
    "\n",
    "etiLmayor = Label(interfaz, text=\"Lado Mayor\").pack()\n",
    "entradaLmayor=Entry(interfaz, textvariable=lado_mayor).pack()\n",
    "etiLmenor = Label(interfaz, text=\"Lado Menor\").pack()\n",
    "entradaLmenor=Entry(interfaz, textvariable=lado_menor).pack()\n",
    "etiArea = Label(interfaz, text=\"Area\").pack()\n",
    "etiResultado = Label(interfaz, textvariable=res_Area).pack()\n",
    "botonAceptar = Button(interfaz, text=\"Aceptar\", command=calcular).pack()\n",
    "botonCancelar = Button(interfaz, text=\"Cancelar\", command=interfaz.destroy).pack()\n",
    "interfaz.mainloop()\n",
    "    "
   ]
  },
  {
   "cell_type": "code",
   "execution_count": null,
   "metadata": {},
   "outputs": [],
   "source": []
  },
  {
   "cell_type": "code",
   "execution_count": null,
   "metadata": {},
   "outputs": [],
   "source": []
  }
 ],
 "metadata": {
  "kernelspec": {
   "display_name": "Python 3",
   "language": "python",
   "name": "python3"
  },
  "language_info": {
   "codemirror_mode": {
    "name": "ipython",
    "version": 3
   },
   "file_extension": ".py",
   "mimetype": "text/x-python",
   "name": "python",
   "nbconvert_exporter": "python",
   "pygments_lexer": "ipython3",
   "version": "3.7.6"
  }
 },
 "nbformat": 4,
 "nbformat_minor": 4
}
