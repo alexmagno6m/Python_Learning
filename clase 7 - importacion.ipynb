{
 "cells": [
  {
   "cell_type": "markdown",
   "metadata": {},
   "source": [
    "### Clase 7 - import modules <br>Ing. Alexander Acevedo Gómez <br>Clase de Programación <br>Colegio Antonio Baraya"
   ]
  },
  {
   "cell_type": "markdown",
   "metadata": {},
   "source": [
    "# Módulos en Python\n",
    "Los módulos son librerías de código programadas en archivos aparte, cuentan con funciones muy específicas las cuales pueden ser usadas según las necesidades del programador, los modulos se usan instanciados a objetos y las funciones como si fueran métodos del mismo. Piense como si fuera una biblioteca, donde el módulo vendría ser un libro y la función del módulo un capítulo del libro.\n",
    "# Importando módulos\n",
    "Existen cuatro maneras diferentes de importar módulos en Python, cada una difiere en el espacio de nombre indicado para el modulo en cuestión.\n",
    "> ## Metodo 1: import *\n",
    ">\n",
    "> En este caso se crea el espacio de nombre del modulo y se seleccionan las funciones específicas a través del operador punto (.) como si fueran métodos. __Todas las funciones del módulo estarán disponibles__.\n",
    ">\n",
    "> En el siguiente ejemplo, se importa el modulo MATH el cual se usa para traer funciones matemáticas especiales que no se encuentran disponibles de forma directa en el núcleo por defecto de Python. Suponga se desea obtener la raiz cuadrada de un número A:\n",
    ">\n",
    ">$$\\sqrt{A}$$\n",
    ">\n",
    "> Primero se importa el modulo"
   ]
  },
  {
   "cell_type": "code",
   "execution_count": 2,
   "metadata": {},
   "outputs": [],
   "source": [
    "import math"
   ]
  },
  {
   "cell_type": "markdown",
   "metadata": {},
   "source": [
    "> La función del módulo MATH encargada de obtener la raiz cuadrada es _sqrt_, a través del operador punto se llama la función para la variable A. Suponga A vale 10:"
   ]
  },
  {
   "cell_type": "code",
   "execution_count": 4,
   "metadata": {},
   "outputs": [
    {
     "name": "stdout",
     "output_type": "stream",
     "text": [
      "3.1622776601683795\n"
     ]
    }
   ],
   "source": [
    "A  = 10\n",
    "print(math.sqrt(A))"
   ]
  },
  {
   "cell_type": "markdown",
   "metadata": {},
   "source": [
    "> ## Método 2: from module import function\n",
    "> Difiere del método anterior en que sólo se importan las funciones específicas dentro de la linea de importación, en caso de ser más de una se separan por comas, el resto de funciones no declaradas no podrán ser accedidas."
   ]
  },
  {
   "cell_type": "code",
   "execution_count": 5,
   "metadata": {},
   "outputs": [
    {
     "name": "stdout",
     "output_type": "stream",
     "text": [
      "3.1622776601683795\n"
     ]
    }
   ],
   "source": [
    "from math import sqrt\n",
    "A = 10\n",
    "print(sqrt(A))"
   ]
  },
  {
   "cell_type": "markdown",
   "metadata": {},
   "source": [
    "> ## Método 3: import module as alias\n",
    "> Funciona como el primer método pero el nombre del módulo se cambia por un alias, en el ejemplo que se está viendo el módulo _math_ pasaría a llamarse _mate_:"
   ]
  },
  {
   "cell_type": "code",
   "execution_count": 6,
   "metadata": {},
   "outputs": [
    {
     "name": "stdout",
     "output_type": "stream",
     "text": [
      "3.1622776601683795\n"
     ]
    }
   ],
   "source": [
    "import math as mate\n",
    "A = 10\n",
    "print(mate.sqrt(A))"
   ]
  },
  {
   "cell_type": "markdown",
   "metadata": {},
   "source": [
    "> Nótese como en lugar de usar math junto al operador punto, se utilizó _mate_.\n",
    ">\n",
    "> ## Método 4: from module import *\n",
    "Trabaja como el método 2, pero a diferencia de éste, se importa el módulo con todas las funciones, lo cual puede ocasionar dos inconvenientes: en primer lugar se puede generar una sobre carga de memoria al traer funciones que no se necesitarán dentro del programa, a su vez es posible producir otro problema relacionado con el uso de variables que pueden compartir el mismo nombre con las funciones del módulo.\n",
    ">\n",
    "> En el ejemplo, este método sería:"
   ]
  },
  {
   "cell_type": "code",
   "execution_count": 7,
   "metadata": {},
   "outputs": [
    {
     "name": "stdout",
     "output_type": "stream",
     "text": [
      "3.1622776601683795\n"
     ]
    }
   ],
   "source": [
    "from math import *\n",
    "A = 10\n",
    "print(sqrt(A))"
   ]
  },
  {
   "cell_type": "markdown",
   "metadata": {},
   "source": [
    "# Algunas funciones del módulo _math_\n",
    "\n",
    "|       Función |             Sintaxis |\n",
    "|--------------:|---------------------:|\n",
    "| Raíz cuadrada |         sqrt(numero) |\n",
    "|      Potencia | pow(base, exponente) |\n",
    "|     Número pi |                 pi() |\n",
    "|          seno |               sin(x) |\n",
    "|        coseno |               cos(x) |"
   ]
  },
  {
   "cell_type": "markdown",
   "metadata": {},
   "source": [
    "# Ejercicio\n",
    "Según lo ilustrado en este documento, realice cada uno de los siguientes ejercicios en una función aparte, seleccionando uno de los cuatro métodos de importación del módulo _math_.\n",
    "1. La función debe contener los parámetros a, b y c para hallar la solución de la ecuación cuadrática:\n",
    "$$ raiz = \\frac{-b \\pm \\sqrt{b^2-4ac}}{2a} $$\n",
    "2. La función debe contener como parámetro _r_ para halla el volumen de la esfera:\n",
    "$$ v = \\frac{4}{3}\\pi r^3 $$\n",
    "3. Area del cubo, la función debe recibir como parámetro _l_.\n",
    "$$ a = l^3 $$"
   ]
  }
 ],
 "metadata": {
  "hide_input": false,
  "kernelspec": {
   "display_name": "Python 3",
   "language": "python",
   "name": "python3"
  },
  "language_info": {
   "codemirror_mode": {
    "name": "ipython",
    "version": 3
   },
   "file_extension": ".py",
   "mimetype": "text/x-python",
   "name": "python",
   "nbconvert_exporter": "python",
   "pygments_lexer": "ipython3",
   "version": "3.7.3"
  },
  "toc": {
   "base_numbering": 1,
   "nav_menu": {},
   "number_sections": true,
   "sideBar": true,
   "skip_h1_title": false,
   "title_cell": "Table of Contents",
   "title_sidebar": "Contents",
   "toc_cell": false,
   "toc_position": {},
   "toc_section_display": true,
   "toc_window_display": true
  }
 },
 "nbformat": 4,
 "nbformat_minor": 2
}
