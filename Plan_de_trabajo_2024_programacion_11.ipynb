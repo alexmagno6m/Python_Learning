{
 "cells": [
  {
   "cell_type": "markdown",
   "id": "61bbcaf6",
   "metadata": {},
   "source": [
    "# Plan de Trabajo 2024 Grado Undécimo Programación"
   ]
  },
  {
   "cell_type": "markdown",
   "id": "1e19b02c",
   "metadata": {},
   "source": [
    "__Alexander Acevedo Gómez__\n",
    "\n",
    "Ingeniero de Sistemas\n",
    "\n",
    "__Universidad Nacional de Colombia__\n",
    "\n",
    "__MSc Modelado y Simulación__\n",
    "\n",
    "__Universidad Jorge Tadeo Lozano__"
   ]
  },
  {
   "cell_type": "markdown",
   "id": "1cbd169d",
   "metadata": {},
   "source": [
    "## Introducción"
   ]
  },
  {
   "cell_type": "markdown",
   "id": "7fcc87a6",
   "metadata": {},
   "source": [
    "Estimado estudiante: Nuestro colegio está implementando el Enfoque de Aprendizaje autónomo. Para ello, es importante que conozcas cuáles son tus fortalezas y debilidades, las inteligencias que tienes más y menos desarrolladas, las estrategias de aprendizaje que utilizas, las asignaturas que más y menos te gustan, entre otros aspectos.\n",
    "\n",
    "A continuación, vas a elaborar un Plan de trabajo con el fin de definir metas que te ayuden a superar las dificultades en la asignatura y a profundizar más en los temas que te interesan. Con base en los desempeños que tu docente te ha presentado, debes definir metas reales y alcanzables y actividades que te motiven y definir tiempos y recursos para lograrlas."
   ]
  },
  {
   "cell_type": "markdown",
   "id": "cbd14359",
   "metadata": {},
   "source": [
    "## Instrucciones"
   ]
  },
  {
   "cell_type": "markdown",
   "id": "4eb1e87d",
   "metadata": {},
   "source": [
    "Realice el plan de trabajo en su cuaderno con los siguientes parametros para poder obtener los 4 puntos de su valor:"
   ]
  },
  {
   "cell_type": "markdown",
   "id": "7d3dc0f0",
   "metadata": {},
   "source": [
    "1. Realice el siguiente cuadro en una pagina completa en su cuaderno"
   ]
  },
  {
   "cell_type": "markdown",
   "id": "7c8f2ebf",
   "metadata": {},
   "source": [
    "| Periodo | Ámbito Conceptual                                 | Competencias especificas                                                                                                                                                                                  |\n",
    "|---------|---------------------------------------------------|-----------------------------------------------------------------------------------------------------------------------------------------------------------------------------------------------------------|\n",
    "| 1       | Python Sintaxis estructurada                      | Declara correctamente variables y hace uso de los comandos fundamentales en Python para representar algoritmos                                                                                            |\n",
    "|         | Estructura de datos colecciones                   | Crea colecciones (lists, tuples, sets, dictionaries) y las manipula usando los métodos más comunes para recrear diferentes ámbitos de aplicación.                                                         |\n",
    "|         | Programación Funcional                            | Define, invoca e interactúa correctamente con funciones, incluyendo tipo lambda, resuelve diferentes retos de programación y aplica la programación modular para el manejo de aplicaciones segmentadas.   |\n",
    "|         | Disposición actitudinal                           | Manifiesta su compromiso frente a su proyecto de vida a través de su puntualidad y cumplimiento de sus deberes académicos.                                                                                |\n",
    "| 2       | Programación Orientada a Objetos                  | Comprende los conceptos asociados a la programación orientada a objetos como instancia, herencia, objeto, clase, subclase, para entender y simular situaciones del mundo cotidiano                        |\n",
    "|         | Creación                                          | Crea clases y subclases con sus respectivos constructores y métodos para esquematizar agrupaciones del mundo real                                                                                         |\n",
    "|         | Abstracción                                       | Instancia objetos aplicando herencia de clases e invocando abstracción para ejemplificar una situación planteada.                                                                                         |\n",
    "|         | Disposición actitudinal                           | Manifiesta su compromiso frente a su proyecto de vida a través de su puntualidad y cumplimiento de sus deberes académicos.                                                                                |\n",
    "| 3       | Introducción a las Interfaces graficas en tkinter | Comprende la función de una GUI, identifica y define sus componentes, para diseñar las propias de acuerdo a un contexto planteado                                                                         |\n",
    "|         | Widgets                                           | Crea programas con interfaces graficas funcionales como solución a un problema planteado                                                                                                                  |\n",
    "|         | Introduccion a Flutter Aplicaciones moviles       | Diseña y programa aplicaciones móviles elementales para representar algoritmos comunes                                                                                                                    |\n",
    "|         | Flutter                                           | Presenta una aplicación móvil como propuesta al desarrollo de un problema particular.                                                                                                                     |\n",
    "| 4       | Introduccion a React                              | Comprende la filosofía de React, babel, nodejs y JSX para el diseño web y la creación de landing pages                                                                                                    |\n",
    "|         | React - JSX                                       | Presenta una landing page con un diseño atractivo, totalmente funcional que sirva como portafolio personal.                                                                                               |\n",
    "|         | Proyecto final                                    | Presenta, sustenta satisfactoriamente su proyecto de grado.                                                                                                                                               |\n",
    "|         | Disposición actitudinal                           | Manifiesta su compromiso frente a su proyecto de vida a través de su puntualidad y cumplimiento de sus deberes académicos.                                                                                |"
   ]
  }
 ],
 "metadata": {
  "kernelspec": {
   "display_name": "Python 3 (ipykernel)",
   "language": "python",
   "name": "python3"
  },
  "language_info": {
   "codemirror_mode": {
    "name": "ipython",
    "version": 3
   },
   "file_extension": ".py",
   "mimetype": "text/x-python",
   "name": "python",
   "nbconvert_exporter": "python",
   "pygments_lexer": "ipython3",
   "version": "3.9.4"
  },
  "toc": {
   "base_numbering": 1,
   "nav_menu": {},
   "number_sections": true,
   "sideBar": true,
   "skip_h1_title": false,
   "title_cell": "Table of Contents",
   "title_sidebar": "Contents",
   "toc_cell": false,
   "toc_position": {},
   "toc_section_display": true,
   "toc_window_display": false
  }
 },
 "nbformat": 4,
 "nbformat_minor": 5
}
