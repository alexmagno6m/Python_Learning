{
 "cells": [
  {
   "cell_type": "markdown",
   "metadata": {},
   "source": [
    "### Clase 5 - if - else <br>Ing. Alexander Acevedo Gómez <br>Clase de Programación <br>Colegio Antonio Baraya"
   ]
  },
  {
   "cell_type": "markdown",
   "metadata": {},
   "source": [
    "# Condicionales if - else (estructuras de decisión)\n",
    "Una estructura condicional se usa para tomar decisiones en un programa, existen estructuras condicionales simples, anidadas o secuenciales.\n",
    "## Funcionamiento\n",
    "> Las estructuras de decision reciben una o más condiciones, la cual es evaluada y solo puede dar un resultado posible: _true_(verdadera) o _false_(falsa). Este resultado no es visible a menos que el programador lo indique explicitamente. Si la condición es verdadera se ejecutan una serie de acciones. En caso de ser falsa, es opcional especificar si se requiere realizar alguna acción.\n",
    "## Operadores relacionales o de comparación\n",
    "> En Python los operadores relacionales son:\n",
    ">\n",
    ">| Operador | Descripción       |\n",
    "|----------|-------------------|\n",
    "|     ==   | Es igual a        |\n",
    "|     >    | Mayor que         |\n",
    "|     <    | Menor que         |\n",
    "|    !=    | No es igual a     |\n",
    "|    <=    | Menor o igual que |\n",
    "|    >=    | Mayor o igual que |\n",
    ">\n",
    "> ### Diferencia entre los operadores = (asignación) y == (es igual a).\n",
    ">> El operador = (de asignación) es usado para dar o guardar un valor dentro de una variable:"
   ]
  },
  {
   "cell_type": "markdown",
   "metadata": {},
   "source": [
    "a = 10"
   ]
  },
  {
   "cell_type": "markdown",
   "metadata": {},
   "source": [
    ">> En este ejemplo, la variable a tiene guardado el valor 10.\n",
    ">> Cuando se usa el operador == (es igual a) se le está pidiendo a Python que compare el valor que tiene guardado una variable con otro valor que necesitemos:"
   ]
  },
  {
   "cell_type": "code",
   "execution_count": 2,
   "metadata": {
    "scrolled": true
   },
   "outputs": [
    {
     "data": {
      "text/plain": [
       "False"
      ]
     },
     "execution_count": 2,
     "metadata": {},
     "output_type": "execute_result"
    }
   ],
   "source": [
    "a == 5"
   ]
  },
  {
   "cell_type": "markdown",
   "metadata": {},
   "source": [
    ">> En este caso da como resultado falso, ya que el valor que tiene guardado la variable a es 10 y no 5."
   ]
  },
  {
   "attachments": {
    "Capture3.PNG": {
     "image/png": "[encoded data removed]"
    },
    "Capture4.PNG": {
     "image/png": "[encoded data removed]"
    }
   },
   "cell_type": "markdown",
   "metadata": {},
   "source": [
    "## Sintaxis\n",
    "> Las estructuras de decision  simples solo realizan acciones si la condición es verdadera, en caso de ser falsa no se ejecuta ninguna sentencia, su sintaxis es:\n",
    "> ![Capture3.PNG](attachment:Capture3.PNG)\n",
    "> - __if__: palabra reservada que indica al interprete de Python el inicio de una estructura de decisión.\n",
    "> - __test expression__: el conjunto de decisiones a evaluar, las cuales solo pueden dar como resultado _true_ o _false_. La mayoría de veces las decisiones están formuladas en términos de los operadores relacionales o de comparación.\n",
    "> - __statements__: el conjunto de sentencias que se ejecutaran en caso de ser la condición verdadera.\n",
    "> - __indentación__: la indentación como se ha visto anterioremente indica el alcance del código dentro de la estructura, las sentencias que no estén indentadas no pertenecen a la estructura de decisión.\n",
    ">\n",
    "> Las estructuras condicionales compuestas ejecutan acciones tanto si la condición es verdadera como si es falsa, su sintaxis es:\n",
    "> ![Capture4.PNG](attachment:Capture4.PNG)\n",
    "> - __else__: esta sentencia indica el bloque de código que se ejecutará si la condición es falsa. _Else_ en cuanto a indentación debe escribirse al mismo nivel de _if_.\n",
    "## Ejemplo\n",
    "> En la mayoría de las universidades las notas aprobatorias son mínimo de 30, suponga que se desea verificar si un estudiante aprobó o no una materia, una función para este caso podría ser:"
   ]
  },
  {
   "cell_type": "code",
   "execution_count": 1,
   "metadata": {},
   "outputs": [],
   "source": [
    "def comprobar_nota(nota):\n",
    "    if nota >= 30:\n",
    "        return \"aprobo\"\n",
    "    else:\n",
    "        return \"reprobo\""
   ]
  },
  {
   "cell_type": "markdown",
   "metadata": {},
   "source": [
    "> La función recibe como parámetro la nota, después evalúa en la estructura condicional si ésta es mayor o igual a 30, en caso de ser verdadera retorna \"aprobo\", si es falsa retorna \"reprobo\"\n",
    ">\n",
    "> Si se pasa como parámetro 35 al probar la función:"
   ]
  },
  {
   "cell_type": "code",
   "execution_count": 3,
   "metadata": {},
   "outputs": [
    {
     "name": "stdout",
     "output_type": "stream",
     "text": [
      "aprobo\n"
     ]
    }
   ],
   "source": [
    "resultado = comprobar_nota(35)\n",
    "print(resultado)"
   ]
  },
  {
   "cell_type": "markdown",
   "metadata": {},
   "source": [
    "# Ejercicio\n",
    "Realice el código de 4 ejemplos de la vida donde se usen expresiones condicionales, teniendo en cuenta de variar el operador de la condición de la siguiente manera:\n",
    "* Ejemplo 1: operador ==\n",
    "- Ejemplo 2: operador >=\n",
    "- Ejemplo 3: operador <\n",
    "- Ejemplo 4: operador !=\n",
    "El ejemplo debe quedar lo mejor descrito posible."
   ]
  }
 ],
 "metadata": {
  "hide_input": false,
  "kernelspec": {
   "display_name": "Python 3",
   "language": "python",
   "name": "python3"
  },
  "language_info": {
   "codemirror_mode": {
    "name": "ipython",
    "version": 3
   },
   "file_extension": ".py",
   "mimetype": "text/x-python",
   "name": "python",
   "nbconvert_exporter": "python",
   "pygments_lexer": "ipython3",
   "version": "3.7.3"
  },
  "toc": {
   "base_numbering": 1,
   "nav_menu": {},
   "number_sections": true,
   "sideBar": true,
   "skip_h1_title": false,
   "title_cell": "Table of Contents",
   "title_sidebar": "Contents",
   "toc_cell": false,
   "toc_position": {},
   "toc_section_display": true,
   "toc_window_display": true
  }
 },
 "nbformat": 4,
 "nbformat_minor": 2
}
