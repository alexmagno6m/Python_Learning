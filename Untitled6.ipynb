{
 "cells": [
  {
   "cell_type": "markdown",
   "id": "07211531",
   "metadata": {},
   "source": [
    "## Registration codes"
   ]
  },
  {
   "cell_type": "markdown",
   "id": "0a8e4dee",
   "metadata": {},
   "source": [
    "A continuacion usted encontrara el codigo que le permitira acceder a la plataforma __ClassMarker__, tenga en cuenta:\n",
    "- EL codigo es personal e intransferible\n",
    "- No use el codigo asignado a otra persona, esto le implicará sanciones\n",
    "- EL codigo solo se puede usar __UNA VEZ__"
   ]
  },
  {
   "cell_type": "markdown",
   "id": "f17b439b",
   "metadata": {},
   "source": [
    "## Codigos"
   ]
  },
  {
   "cell_type": "markdown",
   "id": "e6dce0b5",
   "metadata": {},
   "source": [
    "| Estudiante                            | Codigo         |\n",
    "|---------------------------------------|----------------|\n",
    "| AMARILLO JIMENEZ LUNA SOFIA           | RH4115835201NK |\n",
    "| ARAUJO GONZALEZ JESUS MANUEL          | RM3115835206TJ |\n",
    "| BERMUDEZ   ALVAREZ JOSHUA ESTEVEN     | MP0115835207EN |\n",
    "| CIFUENTES   CIFUENTES KAROLL JULIANA  | PB4115835201XF |\n",
    "| FERNANDEZ   LIZARAZO SERGIO ALEXANDER | VJ4115835206XY |\n",
    "| FRANCO BERNAL   JHOSEF DAVID          | PD61158352093R |\n",
    "| GONZALEZ AVILA   DIEGO NICOLAS        | 4T3115835202YY |\n",
    "| LINARES   SALAMANCA JUAN ESTEBAN      | KV6115835203J7 |\n",
    "| MARTINEZ   GUERRA AIRAM MOISES        | 4V1115835208A4 |\n",
    "| ORTIZ RAMIREZ   JUAN CAMILO           | 962115835204R4 |\n",
    "| OYAGA VARGAS   DANIEL ANDRES          | TP4115835204GX |\n",
    "| PARRA CELIS   JUANA VALENTINA         | 6P8115835209KM |\n",
    "| PEÑA GUTIERREZ   LUISA FERNANDA       | FK411583520637 |\n",
    "| RIOS DAZA   BRAYAN FELIPE             | H641158352093B |\n",
    "| RIVEROS ROJAS KEVIN SANTIAGO          | AX7115835202FA |\n",
    "| TORREALBA PEÑA RAFAEL GREGORIO        | CM0115835204P4 |\n",
    "| UMBARIVA   GALEANO JOAN SANTIAGO      | TE6115835207AD |\n",
    "| VILLAMIZAR FRANCO NICOLAS             | EP3115835201NR |"
   ]
  },
  {
   "cell_type": "markdown",
   "id": "289dee70",
   "metadata": {},
   "source": [
    "### Registrarse en la plataforma con su codigo unico"
   ]
  },
  {
   "cell_type": "markdown",
   "id": "90daafbf",
   "metadata": {},
   "source": [
    "Haga clic en el siguiente enlace:\n",
    "\n",
    "[ClassMarker](https://www.classmarker.com/register/)"
   ]
  },
  {
   "cell_type": "code",
   "execution_count": null,
   "id": "8a64a87e",
   "metadata": {},
   "outputs": [],
   "source": []
  }
 ],
 "metadata": {
  "kernelspec": {
   "display_name": "Python 3 (ipykernel)",
   "language": "python",
   "name": "python3"
  },
  "language_info": {
   "codemirror_mode": {
    "name": "ipython",
    "version": 3
   },
   "file_extension": ".py",
   "mimetype": "text/x-python",
   "name": "python",
   "nbconvert_exporter": "python",
   "pygments_lexer": "ipython3",
   "version": "3.9.4"
  },
  "toc": {
   "base_numbering": 1,
   "nav_menu": {},
   "number_sections": true,
   "sideBar": true,
   "skip_h1_title": false,
   "title_cell": "Table of Contents",
   "title_sidebar": "Contents",
   "toc_cell": false,
   "toc_position": {},
   "toc_section_display": true,
   "toc_window_display": false
  }
 },
 "nbformat": 4,
 "nbformat_minor": 5
}
