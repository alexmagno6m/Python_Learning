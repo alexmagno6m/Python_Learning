{
 "cells": [
  {
   "cell_type": "code",
   "execution_count": 2,
   "metadata": {},
   "outputs": [],
   "source": [
    "from tkinter import *\n",
    "ventana = Tk()\n",
    "\n",
    "def secuencia():\n",
    "    num = 1\n",
    "    for i in range(n.get()):\n",
    "        b= i + num\n",
    "        num = b\n",
    "    a.set(num)\n",
    "a = IntVar()\n",
    "n = IntVar()\n",
    "b = IntVar()\n",
    "num = IntVar()\n",
    "ventana.minsize(200,200)\n",
    "entrada= Entry(ventana,textvariable=n).pack() \n",
    "eti = Label(ventana, textvariable=a).pack()\n",
    "boton = Button(ventana, text='Mostrar', command=secuencia).pack()\n",
    "ventana.mainloop()       \n",
    "        \n",
    "\n",
    "\n",
    "\n"
   ]
  },
  {
   "cell_type": "code",
   "execution_count": null,
   "metadata": {},
   "outputs": [],
   "source": []
  },
  {
   "cell_type": "code",
   "execution_count": null,
   "metadata": {},
   "outputs": [],
   "source": []
  }
 ],
 "metadata": {
  "kernelspec": {
   "display_name": "Python 3",
   "language": "python",
   "name": "python3"
  },
  "language_info": {
   "codemirror_mode": {
    "name": "ipython",
    "version": 3
   },
   "file_extension": ".py",
   "mimetype": "text/x-python",
   "name": "python",
   "nbconvert_exporter": "python",
   "pygments_lexer": "ipython3",
   "version": "3.7.6"
  }
 },
 "nbformat": 4,
 "nbformat_minor": 4
}
