{
 "cells": [
  {
   "cell_type": "markdown",
   "id": "395669ac",
   "metadata": {},
   "source": [
    "# Ttk module"
   ]
  },
  {
   "cell_type": "markdown",
   "id": "912ba1ef",
   "metadata": {},
   "source": [
    "## Definición\n",
    "Ttk es un modulo que proporciona acceso al conjunto de widgets tematicos incorporasdos en Tk 8.5, la idea principal es seperar, en la medida de lo posible, el codigo implementado en el comportamiento del widget del codigo usado para configurar su apariencia. Es similar a lo que sucede en el diseño frontend al separar el contenido en HTML de los estilos en CSS."
   ]
  },
  {
   "cell_type": "markdown",
   "id": "7b3b7aed",
   "metadata": {},
   "source": [
    "Ttk viene con 18 widgets, doce de los cuales ya existen tn tkinter y se agregan 6 nuevos: Combox, Notebook, Progressbar, Sepator, Sizegrip y Treeview."
   ]
  },
  {
   "cell_type": "markdown",
   "id": "f99e3dcb",
   "metadata": {},
   "source": [
    "## Implementación\n",
    "Existen basicamente dos formas de usar Ttk en la primera de ellas se importa el modulo desde tkinter, en ese caso, se debe indicar a cada widget o metodo que requiera acceder a las propiedades de tkk agregando el modulo al inicio usando el operador punto como sucede con cualquier otro modulo.\n",
    "\n",
    "```\n",
    "from tkinter import ttk\n",
    "```\n",
    "\n",
    "La otra forma consiste en sobreescribir la totalidad de widgets de Tk:\n",
    "```\n",
    "from tkinter import *\n",
    "from tkinter.ttk import *\n",
    "```"
   ]
  },
  {
   "cell_type": "markdown",
   "id": "9aea7314",
   "metadata": {},
   "source": [
    "## Style"
   ]
  },
  {
   "cell_type": "markdown",
   "id": "af2ede83",
   "metadata": {},
   "source": [
    "Cada widget de ttk tiene asignado un estilo, con un conjunto de elementos que indican como se integran y arreglan, por defecto, en la mayoria de casos, cada estilo tiene el mismo nombre del widget antecedido de la letra ```T```, por ejemplo ```TButton``` es el estilo que contiene las propiedades para modificar la apariencia del widget ```Button```."
   ]
  },
  {
   "cell_type": "markdown",
   "id": "6c1a86c4",
   "metadata": {},
   "source": [
    "### Cambiando los estilos predefinidos\n",
    "> Para modificar o personalizar un estilo, se usa el metodo ```configure``` y se pasan como argumentos el nombre del estilo  y demas propiedades que se deseen cambiar. Por ejemplo:\n",
    "> ```self.style.configure('TButton', font=('Helvetica', 11))```"
   ]
  },
  {
   "cell_type": "markdown",
   "id": "0880480a",
   "metadata": {},
   "source": [
    "> Para conocer todas las clases disponibles de widgets puede usar la sentencia: ```somewidget.winfo_class()```"
   ]
  },
  {
   "cell_type": "markdown",
   "id": "56a2c02a",
   "metadata": {},
   "source": [
    "### Sobreescribiendo estilos\n",
    "> Se usa el metodo ```configure```, a diferencia del procedimiento anterior, se pasa como argumento el nombre personalizado del estilo seguido por las propiedades deseables de mofificar. \n",
    ">\n",
    "> ``` self.style.configure('My_Style.TtkStyle', args)```"
   ]
  },
  {
   "cell_type": "code",
   "execution_count": null,
   "id": "e474195f",
   "metadata": {},
   "outputs": [],
   "source": []
  }
 ],
 "metadata": {
  "kernelspec": {
   "display_name": "Python 3 (ipykernel)",
   "language": "python",
   "name": "python3"
  },
  "language_info": {
   "codemirror_mode": {
    "name": "ipython",
    "version": 3
   },
   "file_extension": ".py",
   "mimetype": "text/x-python",
   "name": "python",
   "nbconvert_exporter": "python",
   "pygments_lexer": "ipython3",
   "version": "3.9.4"
  },
  "toc": {
   "base_numbering": 1,
   "nav_menu": {},
   "number_sections": true,
   "sideBar": true,
   "skip_h1_title": false,
   "title_cell": "Table of Contents",
   "title_sidebar": "Contents",
   "toc_cell": false,
   "toc_position": {},
   "toc_section_display": true,
   "toc_window_display": false
  }
 },
 "nbformat": 4,
 "nbformat_minor": 5
}
