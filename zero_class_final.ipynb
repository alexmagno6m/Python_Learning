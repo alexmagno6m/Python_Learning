{
 "cells": [
  {
   "cell_type": "markdown",
   "id": "b131fe48",
   "metadata": {},
   "source": [
    "### Zero Class Final"
   ]
  },
  {
   "cell_type": "markdown",
   "id": "708d8cd2",
   "metadata": {},
   "source": [
    "# Functions"
   ]
  },
  {
   "cell_type": "markdown",
   "id": "7adf2f9d",
   "metadata": {},
   "source": [
    "A function is a block of code, that performs a specific task, which only runs when it is called. You can pass data, known as parameters, into a function. A function can return data as a result. \n",
    "\n",
    "[Fuente](https://www.w3schools.com/python/python_functions.asp)"
   ]
  },
  {
   "cell_type": "markdown",
   "id": "c3c7c493",
   "metadata": {},
   "source": [
    "## Syntax"
   ]
  },
  {
   "cell_type": "markdown",
   "id": "0ff756e2",
   "metadata": {},
   "source": [
    "```\n",
    "def function_name(parameters):\n",
    "    # function body \n",
    "\n",
    "    return\n",
    "```\n",
    "\n",
    "- def: keyword used to declare a function.\n",
    "- function_name: any name given to the function.\n",
    "- parameters: any value passed to function that represent input values.\n",
    "- return (optional): returns value from a function, (but highly recommended to use it).\n",
    "\n",
    "[Fuente](https://www.programiz.com/python-programming/function)\n",
    "\n",
    "> __Definir una funcion:__ es la acción de crear una función usando la palabra reservada _def_ y asignarle un nombre declarativo respecto al ámbito de aplicación. \n",
    ">\n",
    "> __Invocar una funcion:__ es ejecutar una función para que realice la tarea sobre la cual fue programada, usando el nombre dado y asigando un valor a los argumentos (si los tiene). El orden y número de argumentos deben coincidir con los parámetros dados en la definición de la función."
   ]
  },
  {
   "cell_type": "markdown",
   "id": "4e4ada42",
   "metadata": {},
   "source": [
    "## Default Arguments"
   ]
  },
  {
   "cell_type": "markdown",
   "id": "6d4cf9eb",
   "metadata": {},
   "source": [
    "Una función puede tener parámetros con valores por defecto, los cuales deben ser asignados en el momento de definirla.\n",
    "```\n",
    "def function_sum(a=0, b=0):\n",
    "    total = a + b\n",
    "    return total\n",
    "```\n",
    "\n",
    "> Una vez definido un parámetro con valor por defecto, los parámetros que le sigan deben tambien tener valor por defecto.\n",
    ">\n",
    "> Los argumentos que no tienen valores por defecto se conocen como __posicionales__, debido a que deben ser pasados en el orden como fueron definidos con la función, a menos que se usen argumentos con palabra clave."
   ]
  },
  {
   "cell_type": "markdown",
   "id": "396fca67",
   "metadata": {},
   "source": [
    "## Variadic Arguments (argumentos de cantidad variable)\n",
    "Las funciones pueden admitir una cantidad variable de argumentos, si un asterisco ( * ) es usado como prefijo en el __en el último nombre de un parámetro__.\n",
    "\n",
    "```\n",
    "def product(a, *args):\n",
    "    total = a\n",
    "    for x in args:\n",
    "        total = total * x\n",
    "    return total\n",
    "```\n",
    "\n",
    "> Los valores pasados al argumento de cantidad variable son almacenados en una tupla. Por lo tanto, se pueden manipular usando las operaciones normales que admite este tipo de colección de datos."
   ]
  },
  {
   "cell_type": "markdown",
   "id": "8100c01b",
   "metadata": {},
   "source": [
    "## Keyword Arguments"
   ]
  },
  {
   "cell_type": "markdown",
   "id": "6af8f057",
   "metadata": {},
   "source": [
    "Cuando la asignación de valores a los argumentos se realiza nombrando cada uno explícitamente, se conoce como argumentos con palabra clave. En este caso el orden en que sean pasados no interesa.\n",
    "\n",
    "> Si se omite cualquiera de los argumentos requeridos o el nombre de uno de ellos no coincide con los parámetros, un error de tipo de excepción es lanzado.\n",
    ">\n",
    "> Cuando se llama la función se pueden combinar argumentos posicionales y con palabra clave, se deben proporcionar primero todos los argumentos posicionales, en el orden como fueron definidos con la función.\n",
    ">\n",
    "> Si se desea, es posible forzar el uso de argumentos con palabra clave, agregando un asterisco antes de los parámetros."
   ]
  },
  {
   "cell_type": "markdown",
   "id": "5a501bc3",
   "metadata": {},
   "source": [
    "## Positional-Only Arguments\n",
    "En algunos casos resulta util forzar el uso de argumentos posicionales, es decir, respetando el orden en que fueron definidos los parámetros con la función. Para esto se escribe el símbolo slash (/).\n",
    "```\n",
    "def func(x, y, /):\n",
    "    pass\n",
    "```"
   ]
  },
  {
   "cell_type": "markdown",
   "id": "70185c38",
   "metadata": {},
   "source": [
    "## Documentation Strings\n",
    "Se acostumbra que las primeras líneas de las funciones correspondan a cierta documentación que ayuden a labores de depuración y sirvan para describir su uso, si ese es el caso, la documentación se escribe en formato de comentario multilínea, es decir, tres comillas dobles (\"\"\")."
   ]
  }
 ],
 "metadata": {
  "kernelspec": {
   "display_name": "Python 3 (ipykernel)",
   "language": "python",
   "name": "python3"
  },
  "language_info": {
   "codemirror_mode": {
    "name": "ipython",
    "version": 3
   },
   "file_extension": ".py",
   "mimetype": "text/x-python",
   "name": "python",
   "nbconvert_exporter": "python",
   "pygments_lexer": "ipython3",
   "version": "3.9.4"
  },
  "toc": {
   "base_numbering": 1,
   "nav_menu": {},
   "number_sections": true,
   "sideBar": true,
   "skip_h1_title": false,
   "title_cell": "Table of Contents",
   "title_sidebar": "Contents",
   "toc_cell": false,
   "toc_position": {},
   "toc_section_display": true,
   "toc_window_display": false
  }
 },
 "nbformat": 4,
 "nbformat_minor": 5
}
