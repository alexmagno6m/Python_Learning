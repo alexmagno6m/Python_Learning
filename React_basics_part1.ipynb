{
 "cells": [
  {
   "cell_type": "markdown",
   "id": "5c486d33",
   "metadata": {},
   "source": [
    "### React Basics Part I"
   ]
  },
  {
   "cell_type": "markdown",
   "id": "512e3142",
   "metadata": {},
   "source": [
    "# Next.js"
   ]
  },
  {
   "cell_type": "markdown",
   "id": "c3a071ab",
   "metadata": {},
   "source": [
    "## Concepto\n",
    "Es un framework para React encargado de crear aplicaciones web, full stack, es decir frontend (interfaces de usuarios) y backend (lógica en el servidor). __Next.JS__ configura todas las herramientas de React para agrupar, compilar y construir la aplicación en lugar de perder tiempo en configuraciones innecesarias."
   ]
  },
  {
   "cell_type": "markdown",
   "id": "673ee0e0",
   "metadata": {},
   "source": [
    "## Estructura de directorio"
   ]
  },
  {
   "cell_type": "markdown",
   "id": "4693682d",
   "metadata": {},
   "source": [
    "### Carpetas de primer nivel"
   ]
  },
  {
   "cell_type": "markdown",
   "id": "073dbe1a",
   "metadata": {},
   "source": [
    "| Folder | Content                            |\n",
    "|--------|------------------------------------|\n",
    "| app    | App Router                         |\n",
    "| pages  | Pages Router                       |\n",
    "| public | Static assets to be served         |\n",
    "| src    | Optional application source folder |"
   ]
  },
  {
   "cell_type": "markdown",
   "id": "6ec175a4",
   "metadata": {},
   "source": [
    "### Archivos de primer nivel"
   ]
  },
  {
   "cell_type": "markdown",
   "id": "2aefd9b6",
   "metadata": {},
   "source": [
    "| Next.js            |                                         |\n",
    "|--------------------|-----------------------------------------|\n",
    "| next.config.js     | Configuration file for Next.js          |\n",
    "| package.json       | Project dependencies and scripts        |\n",
    "| instrumentation.ts | OpenTelemetry and Instrumentation file  |\n",
    "| middleware.ts      | Next.js request middleware              |\n",
    "| .env               | Environment variables                   |\n",
    "| .env.local         | Local environment variables             |\n",
    "| .env.production    | Production environment variables        |\n",
    "| .env.development   | Development environment variables       |\n",
    "| .eslintrc.json     | Configuration file for ESLint           |\n",
    "| .gitignore         | Git files and folders to ignore         |\n",
    "| next-env.d.ts      | TypeScript declaration file for Next.js |\n",
    "| tsconfig.json      | Configuration file for TypeScript       |\n",
    "| jsconfig.json      | Configuration file for JavaScript       |"
   ]
  },
  {
   "cell_type": "markdown",
   "id": "12fefb43",
   "metadata": {},
   "source": [
    "### ```app``` Routing Conventions"
   ]
  },
  {
   "cell_type": "markdown",
   "id": "720f25e9",
   "metadata": {},
   "source": [
    "| Routing Files |               |                              |\n",
    "|---------------|---------------|------------------------------|\n",
    "| layout        | .js .jsx .tsx | Layout                       |\n",
    "| page          | .js .jsx .tsx | Page                         |\n",
    "| loading       | .js .jsx .tsx | Loading UI                   |\n",
    "| not-found     | .js .jsx .tsx | Not found UI                 |\n",
    "| error         | .js .jsx .tsx | Error UI                     |\n",
    "| global-error  | .js .jsx .tsx | Global error UI              |\n",
    "| route         | .js .ts       | API endpoint                 |\n",
    "| template      | .js .jsx .tsx | Re-rendered layout           |\n",
    "| default       | .js .jsx .tsx | Parallel route fallback page |"
   ]
  },
  {
   "cell_type": "markdown",
   "id": "380b167d",
   "metadata": {},
   "source": [
    "### ```pages``` Routing Conventions"
   ]
  },
  {
   "cell_type": "markdown",
   "id": "987f2ac1",
   "metadata": {},
   "source": [
    "| Special files |               |                   |\n",
    "|---------------|---------------|-------------------|\n",
    "| _app          | .js .jsx .tsx | Custom App        |\n",
    "| _document     | .js .jsx .tsx | Custom Document   |\n",
    "| _error        | .js .jsx .tsx | Custom Error Page |\n",
    "| 404           | .js .jsx .tsx | 404 Error Page    |\n",
    "| 500           | .js .jsx .tsx | 500 Error Page    |"
   ]
  },
  {
   "cell_type": "markdown",
   "id": "2bfc481d",
   "metadata": {},
   "source": [
    "#### Routes"
   ]
  },
  {
   "cell_type": "markdown",
   "id": "48132b9e",
   "metadata": {},
   "source": [
    "| Folder convention |               |             |\n",
    "|-------------------|---------------|-------------|\n",
    "| index             | .js .jsx .tsx | Home page   |\n",
    "| folder/index      | .js .jsx .tsx | Nested page |\n",
    "| File convention   |               |             |\n",
    "| index             | .js .jsx .tsx | Home page   |\n",
    "| file              | .js .jsx .tsx | Nested page |"
   ]
  },
  {
   "cell_type": "markdown",
   "id": "b6e18bc6",
   "metadata": {},
   "source": [
    "## Esential commands"
   ]
  },
  {
   "cell_type": "markdown",
   "id": "63402923",
   "metadata": {},
   "source": [
    "__```npm run dev```__"
   ]
  },
  {
   "cell_type": "markdown",
   "id": "0e072474",
   "metadata": {},
   "source": [
    "__```npm run build```__"
   ]
  },
  {
   "cell_type": "markdown",
   "id": "a47ae201",
   "metadata": {},
   "source": [
    "## Activites code"
   ]
  },
  {
   "cell_type": "markdown",
   "id": "1f9f3b14",
   "metadata": {},
   "source": [
    "> Este codigo es adaptado del articulo _\"How to create a responsive Navigation bar in Next.js 13\"_ de Anastasia Pirus, publicado originalmente por [__Medium__](https://medium.com/@a.pirus/how-to-create-a-responsive-navigation-bar-in-next-js-13-e5540789a017)"
   ]
  },
  {
   "cell_type": "markdown",
   "id": "61715fad",
   "metadata": {},
   "source": [
    "__```navbar/index.js```__"
   ]
  },
  {
   "cell_type": "markdown",
   "id": "1d160aa0",
   "metadata": {},
   "source": [
    " ```\n",
    "import React from \"react\";\n",
    "import Link from \"next/link\";\n",
    "\n",
    "const Navbar = () => {\n",
    "  return (\n",
    "    <>\n",
    "      <div className=\"w-full h-20 bg-emerald-800 sticky top-0\">\n",
    "        <div className=\"container mx-auto px-4 h-full\">\n",
    "          <div className=\"flex justify-between items-center h-full\">\n",
    "            \n",
    "            <ul className=\"hidden md:flex gap-x-6 text-white\">\n",
    "              <li>\n",
    "                <Link href=\"../contact\">\n",
    "                  <p>Contact</p>\n",
    "                </Link>\n",
    "              </li>\n",
    "              <li>\n",
    "                <Link href=\"../portfolio\">\n",
    "                  <p>Portfolio</p>\n",
    "                </Link>\n",
    "              </li>\n",
    "              <li>\n",
    "                <Link href=\"../projects\">\n",
    "                  <p>Projects</p>\n",
    "                </Link>\n",
    "              </li>\n",
    "            </ul>\n",
    "            \n",
    "          </div>\n",
    "        </div>\n",
    "      </div>\n",
    "    </>\n",
    "  );\n",
    "};\n",
    "\n",
    "export default Navbar; \n",
    "```"
   ]
  },
  {
   "cell_type": "markdown",
   "id": "fa603f23",
   "metadata": {},
   "source": [
    "__```components\\navigation/index.js```__"
   ]
  },
  {
   "cell_type": "markdown",
   "id": "88ab026c",
   "metadata": {},
   "source": [
    "```\n",
    "\"use client\";\n",
    "import { useState } from \"react\";\n",
    "import Navbar from \"./navbar\";\n",
    "\n",
    "const Navigation = () => {\n",
    "  const [isOpen, setIsOpen] = useState(false);\n",
    "  const toggle = () => {\n",
    "    setIsOpen(!isOpen);\n",
    "  };\n",
    "  return (\n",
    "    <>\n",
    "      <Navbar toggle={toggle} />\n",
    "    </>\n",
    "  );\n",
    "};\n",
    "\n",
    "export default Navigation;\n",
    "```"
   ]
  },
  {
   "cell_type": "markdown",
   "id": "5d22948c",
   "metadata": {},
   "source": [
    "__```app/layout.js```__"
   ]
  },
  {
   "cell_type": "markdown",
   "id": "5ea4217c",
   "metadata": {},
   "source": [
    "```\n",
    "import './globals.css'\n",
    "import { Inter } from 'next/font/google'\n",
    "import Navigation from \"./components/navigation/navbar\"\n",
    "\n",
    "const inter = Inter({ subsets: ['latin'] })\n",
    "\n",
    "export const metadata = {\n",
    "  title: 'Create Next App',\n",
    "  description: 'Generated by create next app',\n",
    "}\n",
    "\n",
    "export default function RootLayout({ children }) {\n",
    "  return (\n",
    "    <html lang=\"en\">\n",
    "      <body className={inter.className}>\n",
    "        <Navigation />\n",
    "        {children}\n",
    "      </body>\n",
    "    </html>\n",
    "  )\n",
    "}\n",
    "```"
   ]
  }
 ],
 "metadata": {
  "kernelspec": {
   "display_name": "Python 3 (ipykernel)",
   "language": "python",
   "name": "python3"
  },
  "language_info": {
   "codemirror_mode": {
    "name": "ipython",
    "version": 3
   },
   "file_extension": ".py",
   "mimetype": "text/x-python",
   "name": "python",
   "nbconvert_exporter": "python",
   "pygments_lexer": "ipython3",
   "version": "3.9.13"
  },
  "toc": {
   "base_numbering": 1,
   "nav_menu": {},
   "number_sections": true,
   "sideBar": true,
   "skip_h1_title": false,
   "title_cell": "Table of Contents",
   "title_sidebar": "Contents",
   "toc_cell": false,
   "toc_position": {},
   "toc_section_display": true,
   "toc_window_display": false
  }
 },
 "nbformat": 4,
 "nbformat_minor": 5
}
