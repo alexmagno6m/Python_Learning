{
 "cells": [
  {
   "cell_type": "markdown",
   "metadata": {
    "toc": true
   },
   "source": [
    "<h1>Tabla de contenido<span class=\"tocSkip\"></span></h1>\n",
    "<div class=\"toc\"><ul class=\"toc-item\"><li><span><a href=\"#PROGRAMACIÓN-ORIENTADA-A-OBJETOS\" data-toc-modified-id=\"PROGRAMACIÓN-ORIENTADA-A-OBJETOS-1\"><span class=\"toc-item-num\">1&nbsp;&nbsp;</span>PROGRAMACIÓN ORIENTADA A OBJETOS</a></span><ul class=\"toc-item\"><li><span><a href=\"#Introducción\" data-toc-modified-id=\"Introducción-1.1\"><span class=\"toc-item-num\">1.1&nbsp;&nbsp;</span>Introducción</a></span></li><li><span><a href=\"#Resumiendo\" data-toc-modified-id=\"Resumiendo-1.2\"><span class=\"toc-item-num\">1.2&nbsp;&nbsp;</span>Resumiendo</a></span><ul class=\"toc-item\"><li><span><a href=\"#Clase\" data-toc-modified-id=\"Clase-1.2.1\"><span class=\"toc-item-num\">1.2.1&nbsp;&nbsp;</span>Clase</a></span></li><li><span><a href=\"#Metodo\" data-toc-modified-id=\"Metodo-1.2.2\"><span class=\"toc-item-num\">1.2.2&nbsp;&nbsp;</span>Metodo</a></span></li><li><span><a href=\"#Objeto\" data-toc-modified-id=\"Objeto-1.2.3\"><span class=\"toc-item-num\">1.2.3&nbsp;&nbsp;</span>Objeto</a></span></li><li><span><a href=\"#Instanciar\" data-toc-modified-id=\"Instanciar-1.2.4\"><span class=\"toc-item-num\">1.2.4&nbsp;&nbsp;</span>Instanciar</a></span></li></ul></li><li><span><a href=\"#Ejemplo-Práctico\" data-toc-modified-id=\"Ejemplo-Práctico-1.3\"><span class=\"toc-item-num\">1.3&nbsp;&nbsp;</span>Ejemplo Práctico</a></span></li></ul></li><li><span><a href=\"#Ejercicio-en-Python\" data-toc-modified-id=\"Ejercicio-en-Python-2\"><span class=\"toc-item-num\">2&nbsp;&nbsp;</span>Ejercicio en Python</a></span></li><li><span><a href=\"#Ejercicio-en-Word\" data-toc-modified-id=\"Ejercicio-en-Word-3\"><span class=\"toc-item-num\">3&nbsp;&nbsp;</span>Ejercicio en Word</a></span></li></ul></div>"
   ]
  },
  {
   "cell_type": "markdown",
   "metadata": {},
   "source": [
    "# PROGRAMACIÓN ORIENTADA A OBJETOS\n",
    "\n",
    " \n",
    "\n",
    "## Introducción\n",
    "> Imagine una clase como un conjunto de elementos de la vida natural, que comparten características compartidas, por ejemplo, __Animales mamíferos__, esta clase involucra un muy amplio numero de especies y éstas a su vez de subespecies, los animales mamíferos tienen una serie de características comunes con un valor para cada especie, incluso distintos, pero siguen siendo mamíferos, por ejemplo: nombre, edad, color, localización, tipo de alimentación, hábitat, tiempo de gestación, tiempo de destete, etc. A estas características se le conocen como __Atributos__. Los atributos son datos con valores usados para describir los integrantes de una clase. Muchos de estos atributos no contienen valores constantes, ya que pueden cambiar con el tiempo, por ejemplo: la edad, vida fértil, localización. Por lo tanto, muchas veces es necesario realizar operaciones con los atributos o con otras variables de la clase para actualizarlos o modificarlos, éstas operaciones se almacenan en funciones especiales llamadas __métodos__.  \n",
    ">\n",
    "> Piense  en un animal pertenciente a la clase _mamíferos,_ como el  gato doméstico (_Felis silvestris catus),_ éste como todos los demás animales de la misma clase, no importa la especie, se les conoce en la __POO__ como __Objetos__.\n",
    ">\n",
    "> La acción de crear un objeto para una clase en específico se le conococe como __instanciar__, y el objeto como tal, es una __instancia de clase__.\n",
    ">\n",
    "> Las clases se representan en __POO__ mediante Diagramas de clases, en el estándar UML Lenguaje unificado de modelado _(UML, por sus siglas en inglés, Unified Modeling Language),_ siguiendo con el ejemplo de animales:\n",
    "> ![DIAGRAMA_DE_CLASES.png](attachment:DIAGRAMA_DE_CLASES.png)\n",
    ">\n",
    "> Observe como aparte de la clase Mamíferos, se desprenden otras subclases (gatos, perros, elefantes), éstas como conservan los mismos atributos de la clase principal no requieren ser nombrados nuevamente en el diagrama, por lo tanto se dice que tienen una relación de __herencia__ con la clase _animales._ \n",
    ">\n",
    "> Los signos \"+\" y \"-\" al inicio de cada atributo o método indican la visibiliad de estos, indicando si son públicos o privados respectivamente."
   ]
  },
  {
   "cell_type": "markdown",
   "metadata": {},
   "source": [
    "## Resumiendo\n",
    "Practicamente todo el codigo de Python realiza acciones con objetos.\n",
    "### Clase\n",
    "> Es un conjunto de elementos con caracteristicas compartidas que se expresan con: propiedades, variables y funciones”. Las clases definen conjuntos de atributos que se pueden compartir en todas las instancias de la clase.\n",
    "### Metodo\n",
    "> Las funciones definidas dentro de una clase  se conocen como metodos, un __metodo de instancia__ son aquellas funciones que operan sobre una instancia de una clase (objeto), no todos los metodos son _metodos de instancia_. La forma de indicar esto es atraves de un argumento llamado __self__ el cual indica que un objeto que se instancie puede usar esos metodos de instancia, por que de cierta manera \"son propios de ese objeto\" o \"le pertenecen\". pero cualquier identificador legal puede usarse para ello.\n",
    "### Objeto\n",
    "> Es un elemento que pertenece a una clase, se dice que un objeto es una instancia de una clase. La palabra reservada __Class__ no crea por si misma una instancia de una clase.\n",
    "### Instanciar\n",
    "> Es la accion de crear un objeto que pertenezca a una clase en especifico."
   ]
  },
  {
   "attachments": {},
   "cell_type": "markdown",
   "metadata": {},
   "source": [
    "## Ejemplo Práctico\n",
    "\n",
    ">Un buen ejemplo para poder entender el funcionamiento de una clase es considerar el caso de una biblioteca, ya que podemos facilmente asociar los elementos que pertenecen a ese conjunto, en este caso los objetos serian los libros \n",
    ">\n",
    "> Se inicia creando una la clase _Library:_"
   ]
  },
  {
   "cell_type": "code",
   "execution_count": 97,
   "metadata": {},
   "outputs": [],
   "source": [
    "class empleado(object):\n",
    "    numEmpleado = 0\n",
    "    def __init__(self, nombre, bonificacion):\n",
    "        self.abono = 0\n",
    "        self.nombre = nombre\n",
    "\n",
    "        self.bonificacion = bonificacion\n",
    "        empleado.numEmpleado += 1\n",
    "    def __del__(self):\n",
    "        empleado.numEmpleado -= 1\n",
    "    def horas(self, numHoras):\n",
    "        self.abono += numHoras*self.bonificacion\n",
    "        return (\"{:04.2f} horas trabajadas\").format(numHoras)\n",
    "    def pago(self):\n",
    "        self.abono = 0\n",
    "        return (\"pagado a {}\").format(self.nombre)"
   ]
  },
  {
   "cell_type": "markdown",
   "metadata": {},
   "source": [
    ">La primera línea crea la clase, incluye la variable numEmpleado que se irá auto incrementando conforme se agregan nuevos empleados. En este momento el empleado no tiene abonos, por esto su valor es cero. El resto debe ser la declaración de cada uno de los argumentos (nombre y bonificación).\n",
    ">\n",
    ">El método \"del\" elimina un emplado, el método \"horas\" calcula el número de horas totales que corresponde a las trabajadas multiplicadas por la bonificación, por ejemplo si se reconoce el 15%, la bondicacion seria de 1.15. El formato _:04.2f_ significa que se mostrarán un total de 4 digitos, de los cuales 2 serán decimales (float). \n",
    ">\n",
    "> Este método muestra un mensaje indicando el proceso actual o final en que se encuentra un empleado.\n",
    ">\n",
    ">Una __variable de clase,__ como _numEmpleado,_ compartirá sus valores con todas las instancias de la clase. En el ejemplo, usamos numEmpleado para contar cuántas instancias de empleados hay. Nota: la clase llamada _Empleado_ implementará los métodos especiales llamados _init_ y _del_ . Primero, veamos un ejemplo para crear una instancia del objeto Empleado, cómo ejecutar los métodos y cómo devolver la clase y las variables de instancia.\n",
    ">\n",
    ">Agreguemos a dos empleados Juan y Luis , los cuales serán identificados con las variables emp1 y emp2 respectivamente, su bonificación será del 33% y 15% según el caso:"
   ]
  },
  {
   "cell_type": "code",
   "execution_count": 100,
   "metadata": {},
   "outputs": [],
   "source": [
    "empA = empleado(\"Juan\", 1.33)\n",
    "empB = empleado(\"Luis\", 1.15)"
   ]
  },
  {
   "cell_type": "markdown",
   "metadata": {},
   "source": [
    "> A partir de este momento todos los métodos de la clase empleado pasarán a los objetos emp1 y emp2, en este punto si queremos saber cuantos empleados hay en total, llamammos la clase y el método correspindiente:"
   ]
  },
  {
   "cell_type": "code",
   "execution_count": 101,
   "metadata": {},
   "outputs": [
    {
     "name": "stdout",
     "output_type": "stream",
     "text": [
      "2\n"
     ]
    }
   ],
   "source": [
    "print(empleado.numEmpleado)"
   ]
  },
  {
   "cell_type": "markdown",
   "metadata": {},
   "source": [
    "> Entrega como resultado 2, puesto que hemos agrefado a Juan y Luis.\n",
    ">\n",
    "> Suponga ahora desea registrarle a Juan 20 horas de trabajo, solo basta llamar el método \"horas\":"
   ]
  },
  {
   "cell_type": "code",
   "execution_count": 102,
   "metadata": {},
   "outputs": [
    {
     "data": {
      "text/plain": [
       "'20.00 horas trabajadas'"
      ]
     },
     "execution_count": 102,
     "metadata": {},
     "output_type": "execute_result"
    }
   ],
   "source": [
    "empA.horas(20)"
   ]
  },
  {
   "cell_type": "markdown",
   "metadata": {},
   "source": [
    "> Para obtener el numero de horas trabajadas con la bonificación se procede igual, pero llamando el método \"pago\":"
   ]
  },
  {
   "cell_type": "code",
   "execution_count": 103,
   "metadata": {},
   "outputs": [
    {
     "data": {
      "text/plain": [
       "26.6"
      ]
     },
     "execution_count": 103,
     "metadata": {},
     "output_type": "execute_result"
    }
   ],
   "source": [
    "empA.abono"
   ]
  },
  {
   "cell_type": "markdown",
   "metadata": {},
   "source": [
    "> Efectivamente, debido a que la bonoficación de Juan es de 1.33:\n",
    ">\n",
    "> $ Bonif.Juan = 20 x 1.33 = 26.6 $"
   ]
  },
  {
   "cell_type": "markdown",
   "metadata": {},
   "source": [
    "> Para finalizar el proceso de Juan solo basta con llamar el metodo \"Pago\":"
   ]
  },
  {
   "cell_type": "code",
   "execution_count": 104,
   "metadata": {},
   "outputs": [
    {
     "data": {
      "text/plain": [
       "'pagado a Juan'"
      ]
     },
     "execution_count": 104,
     "metadata": {},
     "output_type": "execute_result"
    }
   ],
   "source": [
    "empA.pago()"
   ]
  },
  {
   "cell_type": "markdown",
   "metadata": {},
   "source": [
    "> Para eliminar a Juan se llama el metodo \"Del\":"
   ]
  },
  {
   "cell_type": "code",
   "execution_count": 105,
   "metadata": {},
   "outputs": [
    {
     "name": "stdout",
     "output_type": "stream",
     "text": [
      "1\n"
     ]
    }
   ],
   "source": [
    "empA.__del__()\n",
    "print(empleado.numEmpleado)"
   ]
  },
  {
   "cell_type": "markdown",
   "metadata": {},
   "source": [
    "> El proceso está correcto puesto que efectivamente queda un solo empleado."
   ]
  },
  {
   "cell_type": "markdown",
   "metadata": {},
   "source": [
    "# Ejercicio en Python\n",
    "\n",
    ">Debe realizarlo en Python, puede descargar la versión 3.7 desde acá:\n",
    ">\n",
    "> https://www.python.org/ftp/python/3.7.7/python-3.7.7-amd64.exe\n",
    ">\n",
    ">O si lo prefiere use un editor en línea, donde puede trabajar y descargar su archivo (no necesita instalar nada):\n",
    ">\n",
    ">https://repl.it/languages/python3\n",
    "\n",
    "1. En Python  cree dos clases de su interés, cada una debe tener al menos 4 métodos  y 1 variable de clase, estos pueden hacer diferentes tareas como mostrar un mensaje y realizar alguna operación matemática. Instancie varios objetos a la clase y pruebe los diferentes métodos.\n",
    "2. Guarde su archivo con el siguiente formato: __apellido_curso_guia3.py__"
   ]
  },
  {
   "cell_type": "markdown",
   "metadata": {},
   "source": [
    "# Ejercicio en Word\n",
    "Conteste las siguientes preguntas en un archivo de Word:\n",
    "\n",
    "1. Que es una instancia de clase\n",
    "2. Defina que son los metodos especiales de clase en programación orientada a objetos\n",
    "3. Indique a qué hace referencia el término: Encapsulamiento de datos\n",
    "4. Cite las fuentes bibliográficas donde obtuvo la información, haciendo uso de los conceptos aprendidos en el primer periodo.\n",
    "5. Agregue la bibliografía siguiendo las indicaciones vistas en el primer periodo.\n",
    "6. Guarde su archivo como: __apellido_curso_guia3teoria__"
   ]
  }
 ],
 "metadata": {
  "kernelspec": {
   "display_name": "Python 3 (ipykernel)",
   "language": "python",
   "name": "python3"
  },
  "language_info": {
   "codemirror_mode": {
    "name": "ipython",
    "version": 3
   },
   "file_extension": ".py",
   "mimetype": "text/x-python",
   "name": "python",
   "nbconvert_exporter": "python",
   "pygments_lexer": "ipython3",
   "version": "3.9.4"
  },
  "toc": {
   "base_numbering": 1,
   "nav_menu": {
    "height": "126px",
    "width": "209px"
   },
   "number_sections": true,
   "sideBar": true,
   "skip_h1_title": false,
   "title_cell": "Tabla de contenido",
   "title_sidebar": "Contenido",
   "toc_cell": true,
   "toc_position": {
    "height": "calc(100% - 180px)",
    "left": "10px",
    "top": "150px",
    "width": "256px"
   },
   "toc_section_display": true,
   "toc_window_display": true
  }
 },
 "nbformat": 4,
 "nbformat_minor": 2
}
